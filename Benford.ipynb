{
 "cells": [
  {
   "cell_type": "code",
   "execution_count": 57,
   "metadata": {},
   "outputs": [],
   "source": [
    "import pandas as pd\n",
    "import numpy as np\n",
    "from matplotlib import pyplot as plt\n",
    "%matplotlib inline"
   ]
  },
  {
   "cell_type": "code",
   "execution_count": 2,
   "metadata": {},
   "outputs": [
    {
     "data": {
      "text/html": [
       "<div>\n",
       "<style scoped>\n",
       "    .dataframe tbody tr th:only-of-type {\n",
       "        vertical-align: middle;\n",
       "    }\n",
       "\n",
       "    .dataframe tbody tr th {\n",
       "        vertical-align: top;\n",
       "    }\n",
       "\n",
       "    .dataframe thead th {\n",
       "        text-align: right;\n",
       "    }\n",
       "</style>\n",
       "<table border=\"1\" class=\"dataframe\">\n",
       "  <thead>\n",
       "    <tr style=\"text-align: right;\">\n",
       "      <th></th>\n",
       "      <th>1</th>\n",
       "    </tr>\n",
       "    <tr>\n",
       "      <th>0</th>\n",
       "      <th></th>\n",
       "    </tr>\n",
       "  </thead>\n",
       "  <tbody>\n",
       "    <tr>\n",
       "      <th>Alta Floresta D'Oeste - RO</th>\n",
       "      <td>7067</td>\n",
       "    </tr>\n",
       "    <tr>\n",
       "      <th>Alto Alegre dos Parecis - RO</th>\n",
       "      <td>3958,3</td>\n",
       "    </tr>\n",
       "    <tr>\n",
       "      <th>Alto Paraíso - RO</th>\n",
       "      <td>2651,8</td>\n",
       "    </tr>\n",
       "    <tr>\n",
       "      <th>Alvorada D'Oeste - RO</th>\n",
       "      <td>3029,2</td>\n",
       "    </tr>\n",
       "    <tr>\n",
       "      <th>Ariquemes - RO</th>\n",
       "      <td>4426,6</td>\n",
       "    </tr>\n",
       "    <tr>\n",
       "      <th>Buritis - RO</th>\n",
       "      <td>3265,8</td>\n",
       "    </tr>\n",
       "    <tr>\n",
       "      <th>Cabixi - RO</th>\n",
       "      <td>1314,4</td>\n",
       "    </tr>\n",
       "    <tr>\n",
       "      <th>Cacaulândia - RO</th>\n",
       "      <td>1961,8</td>\n",
       "    </tr>\n",
       "    <tr>\n",
       "      <th>Cacoal - RO</th>\n",
       "      <td>3792,8</td>\n",
       "    </tr>\n",
       "    <tr>\n",
       "      <th>Campo Novo de Rondônia - RO</th>\n",
       "      <td>3442</td>\n",
       "    </tr>\n",
       "    <tr>\n",
       "      <th>Candeias do Jamari - RO</th>\n",
       "      <td>6843,9</td>\n",
       "    </tr>\n",
       "    <tr>\n",
       "      <th>Castanheiras - RO</th>\n",
       "      <td>892,8</td>\n",
       "    </tr>\n",
       "    <tr>\n",
       "      <th>Cerejeiras - RO</th>\n",
       "      <td>2783,3</td>\n",
       "    </tr>\n",
       "    <tr>\n",
       "      <th>Chupinguaia - RO</th>\n",
       "      <td>5126,7</td>\n",
       "    </tr>\n",
       "    <tr>\n",
       "      <th>Colorado do Oeste - RO</th>\n",
       "      <td>1451,1</td>\n",
       "    </tr>\n",
       "    <tr>\n",
       "      <th>Corumbiara - RO</th>\n",
       "      <td>3060,3</td>\n",
       "    </tr>\n",
       "    <tr>\n",
       "      <th>Costa Marques - RO</th>\n",
       "      <td>4987,2</td>\n",
       "    </tr>\n",
       "    <tr>\n",
       "      <th>Cujubim - RO</th>\n",
       "      <td>3863,9</td>\n",
       "    </tr>\n",
       "    <tr>\n",
       "      <th>Espigão D'Oeste - RO</th>\n",
       "      <td>4518</td>\n",
       "    </tr>\n",
       "    <tr>\n",
       "      <th>Governador Jorge Teixeira - RO</th>\n",
       "      <td>5067,4</td>\n",
       "    </tr>\n",
       "    <tr>\n",
       "      <th>Guajará-Mirim - RO</th>\n",
       "      <td>24855,8</td>\n",
       "    </tr>\n",
       "    <tr>\n",
       "      <th>Itapuã do Oeste - RO</th>\n",
       "      <td>4081,6</td>\n",
       "    </tr>\n",
       "    <tr>\n",
       "      <th>Jaru - RO</th>\n",
       "      <td>2944,1</td>\n",
       "    </tr>\n",
       "    <tr>\n",
       "      <th>Ji-Paraná - RO</th>\n",
       "      <td>6896,7</td>\n",
       "    </tr>\n",
       "    <tr>\n",
       "      <th>Machadinho D'Oeste - RO</th>\n",
       "      <td>8509,3</td>\n",
       "    </tr>\n",
       "    <tr>\n",
       "      <th>Ministro Andreazza - RO</th>\n",
       "      <td>798,1</td>\n",
       "    </tr>\n",
       "    <tr>\n",
       "      <th>Mirante da Serra - RO</th>\n",
       "      <td>1191,9</td>\n",
       "    </tr>\n",
       "    <tr>\n",
       "      <th>Monte Negro - RO</th>\n",
       "      <td>1931,4</td>\n",
       "    </tr>\n",
       "    <tr>\n",
       "      <th>Nova Brasilândia D'Oeste - RO</th>\n",
       "      <td>1155,4</td>\n",
       "    </tr>\n",
       "    <tr>\n",
       "      <th>Nova Mamoré - RO</th>\n",
       "      <td>10071,7</td>\n",
       "    </tr>\n",
       "    <tr>\n",
       "      <th>...</th>\n",
       "      <td>...</td>\n",
       "    </tr>\n",
       "    <tr>\n",
       "      <th>São Miguel do Araguaia - GO</th>\n",
       "      <td>6144,4</td>\n",
       "    </tr>\n",
       "    <tr>\n",
       "      <th>São Miguel do Passa Quatro - GO</th>\n",
       "      <td>537,8</td>\n",
       "    </tr>\n",
       "    <tr>\n",
       "      <th>São Patrício - GO</th>\n",
       "      <td>172</td>\n",
       "    </tr>\n",
       "    <tr>\n",
       "      <th>São Simão - GO</th>\n",
       "      <td>414</td>\n",
       "    </tr>\n",
       "    <tr>\n",
       "      <th>Senador Canedo - GO</th>\n",
       "      <td>245,3</td>\n",
       "    </tr>\n",
       "    <tr>\n",
       "      <th>Serranópolis - GO</th>\n",
       "      <td>5526,7</td>\n",
       "    </tr>\n",
       "    <tr>\n",
       "      <th>Silvânia - GO</th>\n",
       "      <td>2345,9</td>\n",
       "    </tr>\n",
       "    <tr>\n",
       "      <th>Simolândia - GO</th>\n",
       "      <td>348</td>\n",
       "    </tr>\n",
       "    <tr>\n",
       "      <th>Sítio d'Abadia - GO</th>\n",
       "      <td>1598,3</td>\n",
       "    </tr>\n",
       "    <tr>\n",
       "      <th>Taquaral de Goiás - GO</th>\n",
       "      <td>204,2</td>\n",
       "    </tr>\n",
       "    <tr>\n",
       "      <th>Teresina de Goiás - GO</th>\n",
       "      <td>774,6</td>\n",
       "    </tr>\n",
       "    <tr>\n",
       "      <th>Terezópolis de Goiás - GO</th>\n",
       "      <td>106,9</td>\n",
       "    </tr>\n",
       "    <tr>\n",
       "      <th>Três Ranchos - GO</th>\n",
       "      <td>282,1</td>\n",
       "    </tr>\n",
       "    <tr>\n",
       "      <th>Trindade - GO</th>\n",
       "      <td>710,7</td>\n",
       "    </tr>\n",
       "    <tr>\n",
       "      <th>Trombas - GO</th>\n",
       "      <td>799,1</td>\n",
       "    </tr>\n",
       "    <tr>\n",
       "      <th>Turvânia - GO</th>\n",
       "      <td>480,8</td>\n",
       "    </tr>\n",
       "    <tr>\n",
       "      <th>Turvelândia - GO</th>\n",
       "      <td>934</td>\n",
       "    </tr>\n",
       "    <tr>\n",
       "      <th>Uirapuru - GO</th>\n",
       "      <td>1153,5</td>\n",
       "    </tr>\n",
       "    <tr>\n",
       "      <th>Uruaçu - GO</th>\n",
       "      <td>2141,8</td>\n",
       "    </tr>\n",
       "    <tr>\n",
       "      <th>Uruana - GO</th>\n",
       "      <td>522,5</td>\n",
       "    </tr>\n",
       "    <tr>\n",
       "      <th>Urutaí - GO</th>\n",
       "      <td>626,7</td>\n",
       "    </tr>\n",
       "    <tr>\n",
       "      <th>Valparaíso de Goiás - GO</th>\n",
       "      <td>60,5</td>\n",
       "    </tr>\n",
       "    <tr>\n",
       "      <th>Varjão - GO</th>\n",
       "      <td>519,2</td>\n",
       "    </tr>\n",
       "    <tr>\n",
       "      <th>Vianópolis - GO</th>\n",
       "      <td>954,3</td>\n",
       "    </tr>\n",
       "    <tr>\n",
       "      <th>Vicentinópolis - GO</th>\n",
       "      <td>737,3</td>\n",
       "    </tr>\n",
       "    <tr>\n",
       "      <th>Vila Boa - GO</th>\n",
       "      <td>1060,2</td>\n",
       "    </tr>\n",
       "    <tr>\n",
       "      <th>Vila Propício - GO</th>\n",
       "      <td>2181,6</td>\n",
       "    </tr>\n",
       "    <tr>\n",
       "      <th>Brasília - DF</th>\n",
       "      <td>5787,8</td>\n",
       "    </tr>\n",
       "    <tr>\n",
       "      <th>Nota:\\r\\n\\r\\n1 - A categoria Urbana na sede municipal exclui a população residente nas áres urbanas isoladas.\\r\\n\\r\\n2 - Inclusive as águas interiores.\\r\\n\\r\\n3 - Valores sujeitos a alteração em face de atualizações de natureza cartográfica ou político-administrativa.\\r\\n\\r\\n4 - Inclusive as áres das ilhas de Trindade e Martin Vaz.\\r\\n\\r\\n5 - Para a região Nordeste: Inclusive 2.977,4 Km&amp;sup2; referente à área a ser demarcada, em litígio, entre as unidades da federação Piauí e Ceará.\\r\\n\\r\\n6 - Para a unidade da federação Rio Grande do Sul: Inclusive 10.091,4 Km&amp;sup2; e 2.806,1 Km&amp;sup2; referentes às Lagoas do Patos e Mirim, incorporadas à area da unidade da federação, segundo a constituição de 1988, não constituindo área municipal. \\r\\n\\r\\n7- A RIDE Petrolina/Juazeiro (Região Integrada de Desenvolvimento do Polo Petrolina/PE e Juazeiro/BA) é composta por municípios das unidades da federação Pernambuco e Bahia.\\r\\n\\r\\n8- A RIDE Grande Teresina (Região Integrada de Desenvolvimento da Grande Teresina) é composta por municípios das unidades da federação Maranhão e Piauí.\\r\\n\\r\\n9- A RIDE Distrito Federal e Entorno (Região Integrada de Desenvolvimento do Distrito Federal e Entorno) é composta por municípios das unidades da federação Minas Gerais, Goiás e Distrito Federal.\\r\\n\\r\\n10 - Os dados são da Sinopse.\\r\\n\\r\\n11 - Para obter dados atualizados sobre a área territorial oficial consulte a página http://www.ibge.gov.br/home/geociencias/cartografia/default_territ_area.shtm?c=5</th>\n",
       "      <td>NaN</td>\n",
       "    </tr>\n",
       "    <tr>\n",
       "      <th>Fonte: IBGE - Censo Demográfico</th>\n",
       "      <td>NaN</td>\n",
       "    </tr>\n",
       "  </tbody>\n",
       "</table>\n",
       "<p>5572 rows × 1 columns</p>\n",
       "</div>"
      ],
      "text/plain": [
       "                                                          1\n",
       "0                                                          \n",
       "Alta Floresta D'Oeste - RO                             7067\n",
       "Alto Alegre dos Parecis - RO                         3958,3\n",
       "Alto Paraíso - RO                                    2651,8\n",
       "Alvorada D'Oeste - RO                                3029,2\n",
       "Ariquemes - RO                                       4426,6\n",
       "Buritis - RO                                         3265,8\n",
       "Cabixi - RO                                          1314,4\n",
       "Cacaulândia - RO                                     1961,8\n",
       "Cacoal - RO                                          3792,8\n",
       "Campo Novo de Rondônia - RO                            3442\n",
       "Candeias do Jamari - RO                              6843,9\n",
       "Castanheiras - RO                                     892,8\n",
       "Cerejeiras - RO                                      2783,3\n",
       "Chupinguaia - RO                                     5126,7\n",
       "Colorado do Oeste - RO                               1451,1\n",
       "Corumbiara - RO                                      3060,3\n",
       "Costa Marques - RO                                   4987,2\n",
       "Cujubim - RO                                         3863,9\n",
       "Espigão D'Oeste - RO                                   4518\n",
       "Governador Jorge Teixeira - RO                       5067,4\n",
       "Guajará-Mirim - RO                                  24855,8\n",
       "Itapuã do Oeste - RO                                 4081,6\n",
       "Jaru - RO                                            2944,1\n",
       "Ji-Paraná - RO                                       6896,7\n",
       "Machadinho D'Oeste - RO                              8509,3\n",
       "Ministro Andreazza - RO                               798,1\n",
       "Mirante da Serra - RO                                1191,9\n",
       "Monte Negro - RO                                     1931,4\n",
       "Nova Brasilândia D'Oeste - RO                        1155,4\n",
       "Nova Mamoré - RO                                    10071,7\n",
       "...                                                     ...\n",
       "São Miguel do Araguaia - GO                          6144,4\n",
       "São Miguel do Passa Quatro - GO                       537,8\n",
       "São Patrício - GO                                       172\n",
       "São Simão - GO                                          414\n",
       "Senador Canedo - GO                                   245,3\n",
       "Serranópolis - GO                                    5526,7\n",
       "Silvânia - GO                                        2345,9\n",
       "Simolândia - GO                                         348\n",
       "Sítio d'Abadia - GO                                  1598,3\n",
       "Taquaral de Goiás - GO                                204,2\n",
       "Teresina de Goiás - GO                                774,6\n",
       "Terezópolis de Goiás - GO                             106,9\n",
       "Três Ranchos - GO                                     282,1\n",
       "Trindade - GO                                         710,7\n",
       "Trombas - GO                                          799,1\n",
       "Turvânia - GO                                         480,8\n",
       "Turvelândia - GO                                        934\n",
       "Uirapuru - GO                                        1153,5\n",
       "Uruaçu - GO                                          2141,8\n",
       "Uruana - GO                                           522,5\n",
       "Urutaí - GO                                           626,7\n",
       "Valparaíso de Goiás - GO                               60,5\n",
       "Varjão - GO                                           519,2\n",
       "Vianópolis - GO                                       954,3\n",
       "Vicentinópolis - GO                                   737,3\n",
       "Vila Boa - GO                                        1060,2\n",
       "Vila Propício - GO                                   2181,6\n",
       "Brasília - DF                                        5787,8\n",
       "Nota:\\r\\n\\r\\n1 - A categoria Urbana na sede mun...      NaN\n",
       "Fonte: IBGE - Censo Demográfico                         NaN\n",
       "\n",
       "[5572 rows x 1 columns]"
      ]
     },
     "execution_count": 2,
     "metadata": {},
     "output_type": "execute_result"
    }
   ],
   "source": [
    "base1 = pd.read_csv(\"Dados/2010AreaDosMunicipiosBrasileiros.csv\", sep=';', encoding = 'latin1', index_col=0, header=None)\n",
    "base1"
   ]
  },
  {
   "cell_type": "code",
   "execution_count": 3,
   "metadata": {},
   "outputs": [
    {
     "data": {
      "text/html": [
       "<div>\n",
       "<style scoped>\n",
       "    .dataframe tbody tr th:only-of-type {\n",
       "        vertical-align: middle;\n",
       "    }\n",
       "\n",
       "    .dataframe tbody tr th {\n",
       "        vertical-align: top;\n",
       "    }\n",
       "\n",
       "    .dataframe thead th {\n",
       "        text-align: right;\n",
       "    }\n",
       "</style>\n",
       "<table border=\"1\" class=\"dataframe\">\n",
       "  <thead>\n",
       "    <tr style=\"text-align: right;\">\n",
       "      <th></th>\n",
       "      <th>1</th>\n",
       "    </tr>\n",
       "    <tr>\n",
       "      <th>0</th>\n",
       "      <th></th>\n",
       "    </tr>\n",
       "  </thead>\n",
       "  <tbody>\n",
       "    <tr>\n",
       "      <th>Alta Floresta D'Oeste - RO</th>\n",
       "      <td>7067</td>\n",
       "    </tr>\n",
       "    <tr>\n",
       "      <th>Alto Alegre dos Parecis - RO</th>\n",
       "      <td>3958,3</td>\n",
       "    </tr>\n",
       "    <tr>\n",
       "      <th>Alto Paraíso - RO</th>\n",
       "      <td>2651,8</td>\n",
       "    </tr>\n",
       "    <tr>\n",
       "      <th>Alvorada D'Oeste - RO</th>\n",
       "      <td>3029,2</td>\n",
       "    </tr>\n",
       "    <tr>\n",
       "      <th>Ariquemes - RO</th>\n",
       "      <td>4426,6</td>\n",
       "    </tr>\n",
       "    <tr>\n",
       "      <th>Buritis - RO</th>\n",
       "      <td>3265,8</td>\n",
       "    </tr>\n",
       "    <tr>\n",
       "      <th>Cabixi - RO</th>\n",
       "      <td>1314,4</td>\n",
       "    </tr>\n",
       "    <tr>\n",
       "      <th>Cacaulândia - RO</th>\n",
       "      <td>1961,8</td>\n",
       "    </tr>\n",
       "    <tr>\n",
       "      <th>Cacoal - RO</th>\n",
       "      <td>3792,8</td>\n",
       "    </tr>\n",
       "    <tr>\n",
       "      <th>Campo Novo de Rondônia - RO</th>\n",
       "      <td>3442</td>\n",
       "    </tr>\n",
       "    <tr>\n",
       "      <th>Candeias do Jamari - RO</th>\n",
       "      <td>6843,9</td>\n",
       "    </tr>\n",
       "    <tr>\n",
       "      <th>Castanheiras - RO</th>\n",
       "      <td>892,8</td>\n",
       "    </tr>\n",
       "    <tr>\n",
       "      <th>Cerejeiras - RO</th>\n",
       "      <td>2783,3</td>\n",
       "    </tr>\n",
       "    <tr>\n",
       "      <th>Chupinguaia - RO</th>\n",
       "      <td>5126,7</td>\n",
       "    </tr>\n",
       "    <tr>\n",
       "      <th>Colorado do Oeste - RO</th>\n",
       "      <td>1451,1</td>\n",
       "    </tr>\n",
       "    <tr>\n",
       "      <th>Corumbiara - RO</th>\n",
       "      <td>3060,3</td>\n",
       "    </tr>\n",
       "    <tr>\n",
       "      <th>Costa Marques - RO</th>\n",
       "      <td>4987,2</td>\n",
       "    </tr>\n",
       "    <tr>\n",
       "      <th>Cujubim - RO</th>\n",
       "      <td>3863,9</td>\n",
       "    </tr>\n",
       "    <tr>\n",
       "      <th>Espigão D'Oeste - RO</th>\n",
       "      <td>4518</td>\n",
       "    </tr>\n",
       "    <tr>\n",
       "      <th>Governador Jorge Teixeira - RO</th>\n",
       "      <td>5067,4</td>\n",
       "    </tr>\n",
       "    <tr>\n",
       "      <th>Guajará-Mirim - RO</th>\n",
       "      <td>24855,8</td>\n",
       "    </tr>\n",
       "    <tr>\n",
       "      <th>Itapuã do Oeste - RO</th>\n",
       "      <td>4081,6</td>\n",
       "    </tr>\n",
       "    <tr>\n",
       "      <th>Jaru - RO</th>\n",
       "      <td>2944,1</td>\n",
       "    </tr>\n",
       "    <tr>\n",
       "      <th>Ji-Paraná - RO</th>\n",
       "      <td>6896,7</td>\n",
       "    </tr>\n",
       "    <tr>\n",
       "      <th>Machadinho D'Oeste - RO</th>\n",
       "      <td>8509,3</td>\n",
       "    </tr>\n",
       "    <tr>\n",
       "      <th>Ministro Andreazza - RO</th>\n",
       "      <td>798,1</td>\n",
       "    </tr>\n",
       "    <tr>\n",
       "      <th>Mirante da Serra - RO</th>\n",
       "      <td>1191,9</td>\n",
       "    </tr>\n",
       "    <tr>\n",
       "      <th>Monte Negro - RO</th>\n",
       "      <td>1931,4</td>\n",
       "    </tr>\n",
       "    <tr>\n",
       "      <th>Nova Brasilândia D'Oeste - RO</th>\n",
       "      <td>1155,4</td>\n",
       "    </tr>\n",
       "    <tr>\n",
       "      <th>Nova Mamoré - RO</th>\n",
       "      <td>10071,7</td>\n",
       "    </tr>\n",
       "    <tr>\n",
       "      <th>...</th>\n",
       "      <td>...</td>\n",
       "    </tr>\n",
       "    <tr>\n",
       "      <th>São Luíz do Norte - GO</th>\n",
       "      <td>586,1</td>\n",
       "    </tr>\n",
       "    <tr>\n",
       "      <th>São Miguel do Araguaia - GO</th>\n",
       "      <td>6144,4</td>\n",
       "    </tr>\n",
       "    <tr>\n",
       "      <th>São Miguel do Passa Quatro - GO</th>\n",
       "      <td>537,8</td>\n",
       "    </tr>\n",
       "    <tr>\n",
       "      <th>São Patrício - GO</th>\n",
       "      <td>172</td>\n",
       "    </tr>\n",
       "    <tr>\n",
       "      <th>São Simão - GO</th>\n",
       "      <td>414</td>\n",
       "    </tr>\n",
       "    <tr>\n",
       "      <th>Senador Canedo - GO</th>\n",
       "      <td>245,3</td>\n",
       "    </tr>\n",
       "    <tr>\n",
       "      <th>Serranópolis - GO</th>\n",
       "      <td>5526,7</td>\n",
       "    </tr>\n",
       "    <tr>\n",
       "      <th>Silvânia - GO</th>\n",
       "      <td>2345,9</td>\n",
       "    </tr>\n",
       "    <tr>\n",
       "      <th>Simolândia - GO</th>\n",
       "      <td>348</td>\n",
       "    </tr>\n",
       "    <tr>\n",
       "      <th>Sítio d'Abadia - GO</th>\n",
       "      <td>1598,3</td>\n",
       "    </tr>\n",
       "    <tr>\n",
       "      <th>Taquaral de Goiás - GO</th>\n",
       "      <td>204,2</td>\n",
       "    </tr>\n",
       "    <tr>\n",
       "      <th>Teresina de Goiás - GO</th>\n",
       "      <td>774,6</td>\n",
       "    </tr>\n",
       "    <tr>\n",
       "      <th>Terezópolis de Goiás - GO</th>\n",
       "      <td>106,9</td>\n",
       "    </tr>\n",
       "    <tr>\n",
       "      <th>Três Ranchos - GO</th>\n",
       "      <td>282,1</td>\n",
       "    </tr>\n",
       "    <tr>\n",
       "      <th>Trindade - GO</th>\n",
       "      <td>710,7</td>\n",
       "    </tr>\n",
       "    <tr>\n",
       "      <th>Trombas - GO</th>\n",
       "      <td>799,1</td>\n",
       "    </tr>\n",
       "    <tr>\n",
       "      <th>Turvânia - GO</th>\n",
       "      <td>480,8</td>\n",
       "    </tr>\n",
       "    <tr>\n",
       "      <th>Turvelândia - GO</th>\n",
       "      <td>934</td>\n",
       "    </tr>\n",
       "    <tr>\n",
       "      <th>Uirapuru - GO</th>\n",
       "      <td>1153,5</td>\n",
       "    </tr>\n",
       "    <tr>\n",
       "      <th>Uruaçu - GO</th>\n",
       "      <td>2141,8</td>\n",
       "    </tr>\n",
       "    <tr>\n",
       "      <th>Uruana - GO</th>\n",
       "      <td>522,5</td>\n",
       "    </tr>\n",
       "    <tr>\n",
       "      <th>Urutaí - GO</th>\n",
       "      <td>626,7</td>\n",
       "    </tr>\n",
       "    <tr>\n",
       "      <th>Valparaíso de Goiás - GO</th>\n",
       "      <td>60,5</td>\n",
       "    </tr>\n",
       "    <tr>\n",
       "      <th>Varjão - GO</th>\n",
       "      <td>519,2</td>\n",
       "    </tr>\n",
       "    <tr>\n",
       "      <th>Vianópolis - GO</th>\n",
       "      <td>954,3</td>\n",
       "    </tr>\n",
       "    <tr>\n",
       "      <th>Vicentinópolis - GO</th>\n",
       "      <td>737,3</td>\n",
       "    </tr>\n",
       "    <tr>\n",
       "      <th>Vila Boa - GO</th>\n",
       "      <td>1060,2</td>\n",
       "    </tr>\n",
       "    <tr>\n",
       "      <th>Vila Propício - GO</th>\n",
       "      <td>2181,6</td>\n",
       "    </tr>\n",
       "    <tr>\n",
       "      <th>Brasília - DF</th>\n",
       "      <td>5787,8</td>\n",
       "    </tr>\n",
       "    <tr>\n",
       "      <th>Nota:\\r\\n\\r\\n1 - A categoria Urbana na sede municipal exclui a população residente nas áres urbanas isoladas.\\r\\n\\r\\n2 - Inclusive as águas interiores.\\r\\n\\r\\n3 - Valores sujeitos a alteração em face de atualizações de natureza cartográfica ou político-administrativa.\\r\\n\\r\\n4 - Inclusive as áres das ilhas de Trindade e Martin Vaz.\\r\\n\\r\\n5 - Para a região Nordeste: Inclusive 2.977,4 Km&amp;sup2; referente à área a ser demarcada, em litígio, entre as unidades da federação Piauí e Ceará.\\r\\n\\r\\n6 - Para a unidade da federação Rio Grande do Sul: Inclusive 10.091,4 Km&amp;sup2; e 2.806,1 Km&amp;sup2; referentes às Lagoas do Patos e Mirim, incorporadas à area da unidade da federação, segundo a constituição de 1988, não constituindo área municipal. \\r\\n\\r\\n7- A RIDE Petrolina/Juazeiro (Região Integrada de Desenvolvimento do Polo Petrolina/PE e Juazeiro/BA) é composta por municípios das unidades da federação Pernambuco e Bahia.\\r\\n\\r\\n8- A RIDE Grande Teresina (Região Integrada de Desenvolvimento da Grande Teresina) é composta por municípios das unidades da federação Maranhão e Piauí.\\r\\n\\r\\n9- A RIDE Distrito Federal e Entorno (Região Integrada de Desenvolvimento do Distrito Federal e Entorno) é composta por municípios das unidades da federação Minas Gerais, Goiás e Distrito Federal.\\r\\n\\r\\n10 - Os dados são da Sinopse.\\r\\n\\r\\n11 - Para obter dados atualizados sobre a área territorial oficial consulte a página http://www.ibge.gov.br/home/geociencias/cartografia/default_territ_area.shtm?c=5</th>\n",
       "      <td>NaN</td>\n",
       "    </tr>\n",
       "  </tbody>\n",
       "</table>\n",
       "<p>5571 rows × 1 columns</p>\n",
       "</div>"
      ],
      "text/plain": [
       "                                                          1\n",
       "0                                                          \n",
       "Alta Floresta D'Oeste - RO                             7067\n",
       "Alto Alegre dos Parecis - RO                         3958,3\n",
       "Alto Paraíso - RO                                    2651,8\n",
       "Alvorada D'Oeste - RO                                3029,2\n",
       "Ariquemes - RO                                       4426,6\n",
       "Buritis - RO                                         3265,8\n",
       "Cabixi - RO                                          1314,4\n",
       "Cacaulândia - RO                                     1961,8\n",
       "Cacoal - RO                                          3792,8\n",
       "Campo Novo de Rondônia - RO                            3442\n",
       "Candeias do Jamari - RO                              6843,9\n",
       "Castanheiras - RO                                     892,8\n",
       "Cerejeiras - RO                                      2783,3\n",
       "Chupinguaia - RO                                     5126,7\n",
       "Colorado do Oeste - RO                               1451,1\n",
       "Corumbiara - RO                                      3060,3\n",
       "Costa Marques - RO                                   4987,2\n",
       "Cujubim - RO                                         3863,9\n",
       "Espigão D'Oeste - RO                                   4518\n",
       "Governador Jorge Teixeira - RO                       5067,4\n",
       "Guajará-Mirim - RO                                  24855,8\n",
       "Itapuã do Oeste - RO                                 4081,6\n",
       "Jaru - RO                                            2944,1\n",
       "Ji-Paraná - RO                                       6896,7\n",
       "Machadinho D'Oeste - RO                              8509,3\n",
       "Ministro Andreazza - RO                               798,1\n",
       "Mirante da Serra - RO                                1191,9\n",
       "Monte Negro - RO                                     1931,4\n",
       "Nova Brasilândia D'Oeste - RO                        1155,4\n",
       "Nova Mamoré - RO                                    10071,7\n",
       "...                                                     ...\n",
       "São Luíz do Norte - GO                                586,1\n",
       "São Miguel do Araguaia - GO                          6144,4\n",
       "São Miguel do Passa Quatro - GO                       537,8\n",
       "São Patrício - GO                                       172\n",
       "São Simão - GO                                          414\n",
       "Senador Canedo - GO                                   245,3\n",
       "Serranópolis - GO                                    5526,7\n",
       "Silvânia - GO                                        2345,9\n",
       "Simolândia - GO                                         348\n",
       "Sítio d'Abadia - GO                                  1598,3\n",
       "Taquaral de Goiás - GO                                204,2\n",
       "Teresina de Goiás - GO                                774,6\n",
       "Terezópolis de Goiás - GO                             106,9\n",
       "Três Ranchos - GO                                     282,1\n",
       "Trindade - GO                                         710,7\n",
       "Trombas - GO                                          799,1\n",
       "Turvânia - GO                                         480,8\n",
       "Turvelândia - GO                                        934\n",
       "Uirapuru - GO                                        1153,5\n",
       "Uruaçu - GO                                          2141,8\n",
       "Uruana - GO                                           522,5\n",
       "Urutaí - GO                                           626,7\n",
       "Valparaíso de Goiás - GO                               60,5\n",
       "Varjão - GO                                           519,2\n",
       "Vianópolis - GO                                       954,3\n",
       "Vicentinópolis - GO                                   737,3\n",
       "Vila Boa - GO                                        1060,2\n",
       "Vila Propício - GO                                   2181,6\n",
       "Brasília - DF                                        5787,8\n",
       "Nota:\\r\\n\\r\\n1 - A categoria Urbana na sede mun...      NaN\n",
       "\n",
       "[5571 rows x 1 columns]"
      ]
     },
     "execution_count": 3,
     "metadata": {},
     "output_type": "execute_result"
    }
   ],
   "source": [
    "base1 = base1.drop(index='Fonte: IBGE - Censo Demográfico')\n",
    "base1"
   ]
  },
  {
   "cell_type": "code",
   "execution_count": 4,
   "metadata": {},
   "outputs": [
    {
     "data": {
      "text/html": [
       "<div>\n",
       "<style scoped>\n",
       "    .dataframe tbody tr th:only-of-type {\n",
       "        vertical-align: middle;\n",
       "    }\n",
       "\n",
       "    .dataframe tbody tr th {\n",
       "        vertical-align: top;\n",
       "    }\n",
       "\n",
       "    .dataframe thead th {\n",
       "        text-align: right;\n",
       "    }\n",
       "</style>\n",
       "<table border=\"1\" class=\"dataframe\">\n",
       "  <thead>\n",
       "    <tr style=\"text-align: right;\">\n",
       "      <th></th>\n",
       "      <th>1</th>\n",
       "    </tr>\n",
       "    <tr>\n",
       "      <th>0</th>\n",
       "      <th></th>\n",
       "    </tr>\n",
       "  </thead>\n",
       "  <tbody>\n",
       "    <tr>\n",
       "      <th>Alta Floresta D'Oeste - RO</th>\n",
       "      <td>7067</td>\n",
       "    </tr>\n",
       "    <tr>\n",
       "      <th>Alto Alegre dos Parecis - RO</th>\n",
       "      <td>3958,3</td>\n",
       "    </tr>\n",
       "    <tr>\n",
       "      <th>Alto Paraíso - RO</th>\n",
       "      <td>2651,8</td>\n",
       "    </tr>\n",
       "    <tr>\n",
       "      <th>Alvorada D'Oeste - RO</th>\n",
       "      <td>3029,2</td>\n",
       "    </tr>\n",
       "    <tr>\n",
       "      <th>Ariquemes - RO</th>\n",
       "      <td>4426,6</td>\n",
       "    </tr>\n",
       "    <tr>\n",
       "      <th>Buritis - RO</th>\n",
       "      <td>3265,8</td>\n",
       "    </tr>\n",
       "    <tr>\n",
       "      <th>Cabixi - RO</th>\n",
       "      <td>1314,4</td>\n",
       "    </tr>\n",
       "    <tr>\n",
       "      <th>Cacaulândia - RO</th>\n",
       "      <td>1961,8</td>\n",
       "    </tr>\n",
       "    <tr>\n",
       "      <th>Cacoal - RO</th>\n",
       "      <td>3792,8</td>\n",
       "    </tr>\n",
       "    <tr>\n",
       "      <th>Campo Novo de Rondônia - RO</th>\n",
       "      <td>3442</td>\n",
       "    </tr>\n",
       "    <tr>\n",
       "      <th>Candeias do Jamari - RO</th>\n",
       "      <td>6843,9</td>\n",
       "    </tr>\n",
       "    <tr>\n",
       "      <th>Castanheiras - RO</th>\n",
       "      <td>892,8</td>\n",
       "    </tr>\n",
       "    <tr>\n",
       "      <th>Cerejeiras - RO</th>\n",
       "      <td>2783,3</td>\n",
       "    </tr>\n",
       "    <tr>\n",
       "      <th>Chupinguaia - RO</th>\n",
       "      <td>5126,7</td>\n",
       "    </tr>\n",
       "    <tr>\n",
       "      <th>Colorado do Oeste - RO</th>\n",
       "      <td>1451,1</td>\n",
       "    </tr>\n",
       "    <tr>\n",
       "      <th>Corumbiara - RO</th>\n",
       "      <td>3060,3</td>\n",
       "    </tr>\n",
       "    <tr>\n",
       "      <th>Costa Marques - RO</th>\n",
       "      <td>4987,2</td>\n",
       "    </tr>\n",
       "    <tr>\n",
       "      <th>Cujubim - RO</th>\n",
       "      <td>3863,9</td>\n",
       "    </tr>\n",
       "    <tr>\n",
       "      <th>Espigão D'Oeste - RO</th>\n",
       "      <td>4518</td>\n",
       "    </tr>\n",
       "    <tr>\n",
       "      <th>Governador Jorge Teixeira - RO</th>\n",
       "      <td>5067,4</td>\n",
       "    </tr>\n",
       "    <tr>\n",
       "      <th>Guajará-Mirim - RO</th>\n",
       "      <td>24855,8</td>\n",
       "    </tr>\n",
       "    <tr>\n",
       "      <th>Itapuã do Oeste - RO</th>\n",
       "      <td>4081,6</td>\n",
       "    </tr>\n",
       "    <tr>\n",
       "      <th>Jaru - RO</th>\n",
       "      <td>2944,1</td>\n",
       "    </tr>\n",
       "    <tr>\n",
       "      <th>Ji-Paraná - RO</th>\n",
       "      <td>6896,7</td>\n",
       "    </tr>\n",
       "    <tr>\n",
       "      <th>Machadinho D'Oeste - RO</th>\n",
       "      <td>8509,3</td>\n",
       "    </tr>\n",
       "    <tr>\n",
       "      <th>Ministro Andreazza - RO</th>\n",
       "      <td>798,1</td>\n",
       "    </tr>\n",
       "    <tr>\n",
       "      <th>Mirante da Serra - RO</th>\n",
       "      <td>1191,9</td>\n",
       "    </tr>\n",
       "    <tr>\n",
       "      <th>Monte Negro - RO</th>\n",
       "      <td>1931,4</td>\n",
       "    </tr>\n",
       "    <tr>\n",
       "      <th>Nova Brasilândia D'Oeste - RO</th>\n",
       "      <td>1155,4</td>\n",
       "    </tr>\n",
       "    <tr>\n",
       "      <th>Nova Mamoré - RO</th>\n",
       "      <td>10071,7</td>\n",
       "    </tr>\n",
       "    <tr>\n",
       "      <th>...</th>\n",
       "      <td>...</td>\n",
       "    </tr>\n",
       "    <tr>\n",
       "      <th>São Luís de Montes Belos - GO</th>\n",
       "      <td>826</td>\n",
       "    </tr>\n",
       "    <tr>\n",
       "      <th>São Luíz do Norte - GO</th>\n",
       "      <td>586,1</td>\n",
       "    </tr>\n",
       "    <tr>\n",
       "      <th>São Miguel do Araguaia - GO</th>\n",
       "      <td>6144,4</td>\n",
       "    </tr>\n",
       "    <tr>\n",
       "      <th>São Miguel do Passa Quatro - GO</th>\n",
       "      <td>537,8</td>\n",
       "    </tr>\n",
       "    <tr>\n",
       "      <th>São Patrício - GO</th>\n",
       "      <td>172</td>\n",
       "    </tr>\n",
       "    <tr>\n",
       "      <th>São Simão - GO</th>\n",
       "      <td>414</td>\n",
       "    </tr>\n",
       "    <tr>\n",
       "      <th>Senador Canedo - GO</th>\n",
       "      <td>245,3</td>\n",
       "    </tr>\n",
       "    <tr>\n",
       "      <th>Serranópolis - GO</th>\n",
       "      <td>5526,7</td>\n",
       "    </tr>\n",
       "    <tr>\n",
       "      <th>Silvânia - GO</th>\n",
       "      <td>2345,9</td>\n",
       "    </tr>\n",
       "    <tr>\n",
       "      <th>Simolândia - GO</th>\n",
       "      <td>348</td>\n",
       "    </tr>\n",
       "    <tr>\n",
       "      <th>Sítio d'Abadia - GO</th>\n",
       "      <td>1598,3</td>\n",
       "    </tr>\n",
       "    <tr>\n",
       "      <th>Taquaral de Goiás - GO</th>\n",
       "      <td>204,2</td>\n",
       "    </tr>\n",
       "    <tr>\n",
       "      <th>Teresina de Goiás - GO</th>\n",
       "      <td>774,6</td>\n",
       "    </tr>\n",
       "    <tr>\n",
       "      <th>Terezópolis de Goiás - GO</th>\n",
       "      <td>106,9</td>\n",
       "    </tr>\n",
       "    <tr>\n",
       "      <th>Três Ranchos - GO</th>\n",
       "      <td>282,1</td>\n",
       "    </tr>\n",
       "    <tr>\n",
       "      <th>Trindade - GO</th>\n",
       "      <td>710,7</td>\n",
       "    </tr>\n",
       "    <tr>\n",
       "      <th>Trombas - GO</th>\n",
       "      <td>799,1</td>\n",
       "    </tr>\n",
       "    <tr>\n",
       "      <th>Turvânia - GO</th>\n",
       "      <td>480,8</td>\n",
       "    </tr>\n",
       "    <tr>\n",
       "      <th>Turvelândia - GO</th>\n",
       "      <td>934</td>\n",
       "    </tr>\n",
       "    <tr>\n",
       "      <th>Uirapuru - GO</th>\n",
       "      <td>1153,5</td>\n",
       "    </tr>\n",
       "    <tr>\n",
       "      <th>Uruaçu - GO</th>\n",
       "      <td>2141,8</td>\n",
       "    </tr>\n",
       "    <tr>\n",
       "      <th>Uruana - GO</th>\n",
       "      <td>522,5</td>\n",
       "    </tr>\n",
       "    <tr>\n",
       "      <th>Urutaí - GO</th>\n",
       "      <td>626,7</td>\n",
       "    </tr>\n",
       "    <tr>\n",
       "      <th>Valparaíso de Goiás - GO</th>\n",
       "      <td>60,5</td>\n",
       "    </tr>\n",
       "    <tr>\n",
       "      <th>Varjão - GO</th>\n",
       "      <td>519,2</td>\n",
       "    </tr>\n",
       "    <tr>\n",
       "      <th>Vianópolis - GO</th>\n",
       "      <td>954,3</td>\n",
       "    </tr>\n",
       "    <tr>\n",
       "      <th>Vicentinópolis - GO</th>\n",
       "      <td>737,3</td>\n",
       "    </tr>\n",
       "    <tr>\n",
       "      <th>Vila Boa - GO</th>\n",
       "      <td>1060,2</td>\n",
       "    </tr>\n",
       "    <tr>\n",
       "      <th>Vila Propício - GO</th>\n",
       "      <td>2181,6</td>\n",
       "    </tr>\n",
       "    <tr>\n",
       "      <th>Brasília - DF</th>\n",
       "      <td>5787,8</td>\n",
       "    </tr>\n",
       "  </tbody>\n",
       "</table>\n",
       "<p>5570 rows × 1 columns</p>\n",
       "</div>"
      ],
      "text/plain": [
       "                                       1\n",
       "0                                       \n",
       "Alta Floresta D'Oeste - RO          7067\n",
       "Alto Alegre dos Parecis - RO      3958,3\n",
       "Alto Paraíso - RO                 2651,8\n",
       "Alvorada D'Oeste - RO             3029,2\n",
       "Ariquemes - RO                    4426,6\n",
       "Buritis - RO                      3265,8\n",
       "Cabixi - RO                       1314,4\n",
       "Cacaulândia - RO                  1961,8\n",
       "Cacoal - RO                       3792,8\n",
       "Campo Novo de Rondônia - RO         3442\n",
       "Candeias do Jamari - RO           6843,9\n",
       "Castanheiras - RO                  892,8\n",
       "Cerejeiras - RO                   2783,3\n",
       "Chupinguaia - RO                  5126,7\n",
       "Colorado do Oeste - RO            1451,1\n",
       "Corumbiara - RO                   3060,3\n",
       "Costa Marques - RO                4987,2\n",
       "Cujubim - RO                      3863,9\n",
       "Espigão D'Oeste - RO                4518\n",
       "Governador Jorge Teixeira - RO    5067,4\n",
       "Guajará-Mirim - RO               24855,8\n",
       "Itapuã do Oeste - RO              4081,6\n",
       "Jaru - RO                         2944,1\n",
       "Ji-Paraná - RO                    6896,7\n",
       "Machadinho D'Oeste - RO           8509,3\n",
       "Ministro Andreazza - RO            798,1\n",
       "Mirante da Serra - RO             1191,9\n",
       "Monte Negro - RO                  1931,4\n",
       "Nova Brasilândia D'Oeste - RO     1155,4\n",
       "Nova Mamoré - RO                 10071,7\n",
       "...                                  ...\n",
       "São Luís de Montes Belos - GO        826\n",
       "São Luíz do Norte - GO             586,1\n",
       "São Miguel do Araguaia - GO       6144,4\n",
       "São Miguel do Passa Quatro - GO    537,8\n",
       "São Patrício - GO                    172\n",
       "São Simão - GO                       414\n",
       "Senador Canedo - GO                245,3\n",
       "Serranópolis - GO                 5526,7\n",
       "Silvânia - GO                     2345,9\n",
       "Simolândia - GO                      348\n",
       "Sítio d'Abadia - GO               1598,3\n",
       "Taquaral de Goiás - GO             204,2\n",
       "Teresina de Goiás - GO             774,6\n",
       "Terezópolis de Goiás - GO          106,9\n",
       "Três Ranchos - GO                  282,1\n",
       "Trindade - GO                      710,7\n",
       "Trombas - GO                       799,1\n",
       "Turvânia - GO                      480,8\n",
       "Turvelândia - GO                     934\n",
       "Uirapuru - GO                     1153,5\n",
       "Uruaçu - GO                       2141,8\n",
       "Uruana - GO                        522,5\n",
       "Urutaí - GO                        626,7\n",
       "Valparaíso de Goiás - GO            60,5\n",
       "Varjão - GO                        519,2\n",
       "Vianópolis - GO                    954,3\n",
       "Vicentinópolis - GO                737,3\n",
       "Vila Boa - GO                     1060,2\n",
       "Vila Propício - GO                2181,6\n",
       "Brasília - DF                     5787,8\n",
       "\n",
       "[5570 rows x 1 columns]"
      ]
     },
     "execution_count": 4,
     "metadata": {},
     "output_type": "execute_result"
    }
   ],
   "source": [
    "base1 = base1.drop(index='Nota:\\r\\n\\r\\n1 - A categoria Urbana na sede municipal exclui a população residente nas áres urbanas isoladas.\\r\\n\\r\\n2 - Inclusive as águas interiores.\\r\\n\\r\\n3 - Valores sujeitos a alteração em face de atualizações de natureza cartográfica ou político-administrativa.\\r\\n\\r\\n4 - Inclusive as áres das ilhas de Trindade e Martin Vaz.\\r\\n\\r\\n5 - Para a região Nordeste: Inclusive 2.977,4 Km&sup2; referente à área a ser demarcada, em litígio, entre as unidades da federação Piauí e Ceará.\\r\\n\\r\\n6 - Para a unidade da federação Rio Grande do Sul: Inclusive 10.091,4 Km&sup2; e 2.806,1 Km&sup2; referentes às Lagoas do Patos e Mirim, incorporadas à area da unidade da federação, segundo a constituição de 1988, não constituindo área municipal. \\r\\n\\r\\n7- A RIDE Petrolina/Juazeiro (Região Integrada de Desenvolvimento do Polo Petrolina/PE e Juazeiro/BA) é composta por municípios das unidades da federação Pernambuco e Bahia.\\r\\n\\r\\n8- A RIDE Grande Teresina (Região Integrada de Desenvolvimento da Grande Teresina) é composta por municípios das unidades da federação Maranhão e Piauí.\\r\\n\\r\\n9- A RIDE Distrito Federal e Entorno (Região Integrada de Desenvolvimento do Distrito Federal e Entorno) é composta por municípios das unidades da federação Minas Gerais, Goiás e Distrito Federal.\\r\\n\\r\\n10 - Os dados são da Sinopse.\\r\\n\\r\\n11 - Para obter dados atualizados sobre a área territorial oficial consulte a página http://www.ibge.gov.br/home/geociencias/cartografia/default_territ_area.shtm?c=5')\n",
    "base1"
   ]
  },
  {
   "cell_type": "code",
   "execution_count": 5,
   "metadata": {},
   "outputs": [
    {
     "data": {
      "text/html": [
       "<div>\n",
       "<style scoped>\n",
       "    .dataframe tbody tr th:only-of-type {\n",
       "        vertical-align: middle;\n",
       "    }\n",
       "\n",
       "    .dataframe tbody tr th {\n",
       "        vertical-align: top;\n",
       "    }\n",
       "\n",
       "    .dataframe thead th {\n",
       "        text-align: right;\n",
       "    }\n",
       "</style>\n",
       "<table border=\"1\" class=\"dataframe\">\n",
       "  <thead>\n",
       "    <tr style=\"text-align: right;\">\n",
       "      <th></th>\n",
       "      <th>1</th>\n",
       "    </tr>\n",
       "    <tr>\n",
       "      <th>0</th>\n",
       "      <th></th>\n",
       "    </tr>\n",
       "  </thead>\n",
       "  <tbody>\n",
       "    <tr>\n",
       "      <th>Vianópolis - GO</th>\n",
       "      <td>954,3</td>\n",
       "    </tr>\n",
       "    <tr>\n",
       "      <th>Vicentinópolis - GO</th>\n",
       "      <td>737,3</td>\n",
       "    </tr>\n",
       "    <tr>\n",
       "      <th>Vila Boa - GO</th>\n",
       "      <td>1060,2</td>\n",
       "    </tr>\n",
       "    <tr>\n",
       "      <th>Vila Propício - GO</th>\n",
       "      <td>2181,6</td>\n",
       "    </tr>\n",
       "    <tr>\n",
       "      <th>Brasília - DF</th>\n",
       "      <td>5787,8</td>\n",
       "    </tr>\n",
       "  </tbody>\n",
       "</table>\n",
       "</div>"
      ],
      "text/plain": [
       "                          1\n",
       "0                          \n",
       "Vianópolis - GO       954,3\n",
       "Vicentinópolis - GO   737,3\n",
       "Vila Boa - GO        1060,2\n",
       "Vila Propício - GO   2181,6\n",
       "Brasília - DF        5787,8"
      ]
     },
     "execution_count": 5,
     "metadata": {},
     "output_type": "execute_result"
    }
   ],
   "source": [
    "base1.tail()"
   ]
  },
  {
   "cell_type": "code",
   "execution_count": 6,
   "metadata": {},
   "outputs": [
    {
     "data": {
      "text/html": [
       "<div>\n",
       "<style scoped>\n",
       "    .dataframe tbody tr th:only-of-type {\n",
       "        vertical-align: middle;\n",
       "    }\n",
       "\n",
       "    .dataframe tbody tr th {\n",
       "        vertical-align: top;\n",
       "    }\n",
       "\n",
       "    .dataframe thead th {\n",
       "        text-align: right;\n",
       "    }\n",
       "</style>\n",
       "<table border=\"1\" class=\"dataframe\">\n",
       "  <thead>\n",
       "    <tr style=\"text-align: right;\">\n",
       "      <th></th>\n",
       "      <th>1</th>\n",
       "    </tr>\n",
       "    <tr>\n",
       "      <th>0</th>\n",
       "      <th></th>\n",
       "    </tr>\n",
       "  </thead>\n",
       "  <tbody>\n",
       "    <tr>\n",
       "      <th>Alta Floresta D'Oeste - RO</th>\n",
       "      <td>7067</td>\n",
       "    </tr>\n",
       "    <tr>\n",
       "      <th>Alto Alegre dos Parecis - RO</th>\n",
       "      <td>3958,3</td>\n",
       "    </tr>\n",
       "    <tr>\n",
       "      <th>Alto Paraíso - RO</th>\n",
       "      <td>2651,8</td>\n",
       "    </tr>\n",
       "    <tr>\n",
       "      <th>Alvorada D'Oeste - RO</th>\n",
       "      <td>3029,2</td>\n",
       "    </tr>\n",
       "    <tr>\n",
       "      <th>Ariquemes - RO</th>\n",
       "      <td>4426,6</td>\n",
       "    </tr>\n",
       "  </tbody>\n",
       "</table>\n",
       "</div>"
      ],
      "text/plain": [
       "                                   1\n",
       "0                                   \n",
       "Alta Floresta D'Oeste - RO      7067\n",
       "Alto Alegre dos Parecis - RO  3958,3\n",
       "Alto Paraíso - RO             2651,8\n",
       "Alvorada D'Oeste - RO         3029,2\n",
       "Ariquemes - RO                4426,6"
      ]
     },
     "execution_count": 6,
     "metadata": {},
     "output_type": "execute_result"
    }
   ],
   "source": [
    "base1.head()"
   ]
  },
  {
   "cell_type": "code",
   "execution_count": 7,
   "metadata": {},
   "outputs": [
    {
     "data": {
      "text/plain": [
       "'7067'"
      ]
     },
     "execution_count": 7,
     "metadata": {},
     "output_type": "execute_result"
    }
   ],
   "source": [
    "base1.iloc[0][1]"
   ]
  },
  {
   "cell_type": "code",
   "execution_count": 8,
   "metadata": {},
   "outputs": [
    {
     "data": {
      "text/plain": [
       "str"
      ]
     },
     "execution_count": 8,
     "metadata": {},
     "output_type": "execute_result"
    }
   ],
   "source": [
    "type(base1.iloc[0][1])"
   ]
  },
  {
   "cell_type": "code",
   "execution_count": 12,
   "metadata": {},
   "outputs": [
    {
     "data": {
      "text/plain": [
       "array([0., 0., 0., 0., 0., 0., 0., 0., 0., 0.])"
      ]
     },
     "execution_count": 12,
     "metadata": {},
     "output_type": "execute_result"
    }
   ],
   "source": [
    "primeiros = np.zeros(10)\n",
    "primeiros"
   ]
  },
  {
   "cell_type": "code",
   "execution_count": 10,
   "metadata": {},
   "outputs": [
    {
     "ename": "ValueError",
     "evalue": "invalid literal for int() with base 10: '-'",
     "output_type": "error",
     "traceback": [
      "\u001b[0;31m---------------------------------------------------------------------------\u001b[0m",
      "\u001b[0;31mValueError\u001b[0m                                Traceback (most recent call last)",
      "\u001b[0;32m<ipython-input-10-d6a703ba6c91>\u001b[0m in \u001b[0;36m<module>\u001b[0;34m()\u001b[0m\n\u001b[1;32m      1\u001b[0m \u001b[0;32mfor\u001b[0m \u001b[0mi\u001b[0m \u001b[0;32min\u001b[0m \u001b[0mrange\u001b[0m\u001b[0;34m(\u001b[0m\u001b[0mbase1\u001b[0m\u001b[0;34m.\u001b[0m\u001b[0mshape\u001b[0m\u001b[0;34m[\u001b[0m\u001b[0;36m0\u001b[0m\u001b[0;34m]\u001b[0m\u001b[0;34m)\u001b[0m\u001b[0;34m:\u001b[0m\u001b[0;34m\u001b[0m\u001b[0m\n\u001b[0;32m----> 2\u001b[0;31m     \u001b[0madd\u001b[0m \u001b[0;34m=\u001b[0m \u001b[0mint\u001b[0m\u001b[0;34m(\u001b[0m\u001b[0mbase1\u001b[0m\u001b[0;34m.\u001b[0m\u001b[0miloc\u001b[0m\u001b[0;34m[\u001b[0m\u001b[0mi\u001b[0m\u001b[0;34m]\u001b[0m\u001b[0;34m[\u001b[0m\u001b[0;36m1\u001b[0m\u001b[0;34m]\u001b[0m\u001b[0;34m[\u001b[0m\u001b[0;36m0\u001b[0m\u001b[0;34m]\u001b[0m\u001b[0;34m)\u001b[0m\u001b[0;34m\u001b[0m\u001b[0m\n\u001b[0m\u001b[1;32m      3\u001b[0m     \u001b[0mprimeiros\u001b[0m\u001b[0;34m[\u001b[0m\u001b[0madd\u001b[0m\u001b[0;34m]\u001b[0m \u001b[0;34m+=\u001b[0m \u001b[0;36m1\u001b[0m\u001b[0;34m\u001b[0m\u001b[0m\n",
      "\u001b[0;31mValueError\u001b[0m: invalid literal for int() with base 10: '-'"
     ]
    }
   ],
   "source": [
    "for i in range(base1.shape[0]):\n",
    "    add = int(base1.iloc[i][1][0])\n",
    "    primeiros[add] += 1"
   ]
  },
  {
   "cell_type": "code",
   "execution_count": 13,
   "metadata": {},
   "outputs": [
    {
     "data": {
      "text/plain": [
       "array([0., 0., 0., 0., 0., 0., 0., 0., 0., 0.])"
      ]
     },
     "execution_count": 13,
     "metadata": {},
     "output_type": "execute_result"
    }
   ],
   "source": [
    "primeiros"
   ]
  },
  {
   "cell_type": "markdown",
   "metadata": {},
   "source": [
    "Devemos zerar 'primeiros' afim de rodar novamente com a base limpa"
   ]
  },
  {
   "cell_type": "code",
   "execution_count": 14,
   "metadata": {},
   "outputs": [
    {
     "data": {
      "text/html": [
       "<div>\n",
       "<style scoped>\n",
       "    .dataframe tbody tr th:only-of-type {\n",
       "        vertical-align: middle;\n",
       "    }\n",
       "\n",
       "    .dataframe tbody tr th {\n",
       "        vertical-align: top;\n",
       "    }\n",
       "\n",
       "    .dataframe thead th {\n",
       "        text-align: right;\n",
       "    }\n",
       "</style>\n",
       "<table border=\"1\" class=\"dataframe\">\n",
       "  <thead>\n",
       "    <tr style=\"text-align: right;\">\n",
       "      <th></th>\n",
       "      <th>1</th>\n",
       "    </tr>\n",
       "    <tr>\n",
       "      <th>0</th>\n",
       "      <th></th>\n",
       "    </tr>\n",
       "  </thead>\n",
       "  <tbody>\n",
       "    <tr>\n",
       "      <th>Alta Floresta D'Oeste - RO</th>\n",
       "      <td>7067</td>\n",
       "    </tr>\n",
       "    <tr>\n",
       "      <th>Alto Alegre dos Parecis - RO</th>\n",
       "      <td>3958,3</td>\n",
       "    </tr>\n",
       "    <tr>\n",
       "      <th>Alto Paraíso - RO</th>\n",
       "      <td>2651,8</td>\n",
       "    </tr>\n",
       "    <tr>\n",
       "      <th>Alvorada D'Oeste - RO</th>\n",
       "      <td>3029,2</td>\n",
       "    </tr>\n",
       "    <tr>\n",
       "      <th>Ariquemes - RO</th>\n",
       "      <td>4426,6</td>\n",
       "    </tr>\n",
       "  </tbody>\n",
       "</table>\n",
       "</div>"
      ],
      "text/plain": [
       "                                   1\n",
       "0                                   \n",
       "Alta Floresta D'Oeste - RO      7067\n",
       "Alto Alegre dos Parecis - RO  3958,3\n",
       "Alto Paraíso - RO             2651,8\n",
       "Alvorada D'Oeste - RO         3029,2\n",
       "Ariquemes - RO                4426,6"
      ]
     },
     "execution_count": 14,
     "metadata": {},
     "output_type": "execute_result"
    }
   ],
   "source": [
    "base1 = base1.replace('-', '0')\n",
    "base1.head()"
   ]
  },
  {
   "cell_type": "code",
   "execution_count": 15,
   "metadata": {},
   "outputs": [],
   "source": [
    "for i in range(base1.shape[0]):\n",
    "    add = int(base1.iloc[i][1][0])\n",
    "    primeiros[add] += 1"
   ]
  },
  {
   "cell_type": "code",
   "execution_count": 16,
   "metadata": {},
   "outputs": [
    {
     "data": {
      "text/plain": [
       "array([   5., 1677., 1055.,  741.,  521.,  404.,  346.,  294.,  284.,\n",
       "        243.])"
      ]
     },
     "execution_count": 16,
     "metadata": {},
     "output_type": "execute_result"
    }
   ],
   "source": [
    "primeiros"
   ]
  },
  {
   "cell_type": "markdown",
   "metadata": {},
   "source": [
    "Exemplos de Dados substituidos"
   ]
  },
  {
   "cell_type": "code",
   "execution_count": null,
   "metadata": {},
   "outputs": [],
   "source": [
    "base1 = base1.drop('Pinto Bandeira - RS')\n",
    "base1.shape"
   ]
  },
  {
   "cell_type": "code",
   "execution_count": null,
   "metadata": {},
   "outputs": [],
   "source": [
    "base1 = base1.drop('Paraíso das Águas - MS')\n",
    "base1.shape"
   ]
  },
  {
   "cell_type": "markdown",
   "metadata": {},
   "source": [
    "### Eliminar os zeros da soma_total"
   ]
  },
  {
   "cell_type": "code",
   "execution_count": 17,
   "metadata": {},
   "outputs": [
    {
     "data": {
      "text/plain": [
       "array([   5., 1677., 1055.,  741.,  521.,  404.,  346.,  294.,  284.,\n",
       "        243.])"
      ]
     },
     "execution_count": 17,
     "metadata": {},
     "output_type": "execute_result"
    }
   ],
   "source": [
    "primeiros_b = np.delete(primeiros, 0)\n",
    "primeiros"
   ]
  },
  {
   "cell_type": "code",
   "execution_count": 18,
   "metadata": {},
   "outputs": [
    {
     "data": {
      "text/plain": [
       "array([1677., 1055.,  741.,  521.,  404.,  346.,  294.,  284.,  243.])"
      ]
     },
     "execution_count": 18,
     "metadata": {},
     "output_type": "execute_result"
    }
   ],
   "source": [
    "primeiros_b"
   ]
  },
  {
   "cell_type": "code",
   "execution_count": 22,
   "metadata": {},
   "outputs": [
    {
     "data": {
      "text/plain": [
       "5565.0"
      ]
     },
     "execution_count": 22,
     "metadata": {},
     "output_type": "execute_result"
    }
   ],
   "source": [
    "sum_p = primeiros_b.sum()\n",
    "sum_p"
   ]
  },
  {
   "cell_type": "code",
   "execution_count": 21,
   "metadata": {},
   "outputs": [
    {
     "data": {
      "text/plain": [
       "5570"
      ]
     },
     "execution_count": 21,
     "metadata": {},
     "output_type": "execute_result"
    }
   ],
   "source": [
    "base1.shape[0]"
   ]
  },
  {
   "cell_type": "code",
   "execution_count": 24,
   "metadata": {},
   "outputs": [],
   "source": [
    "for i in range(9):\n",
    "    primeiros_b[i] = primeiros_b[i]/sum_p"
   ]
  },
  {
   "cell_type": "code",
   "execution_count": 26,
   "metadata": {},
   "outputs": [
    {
     "data": {
      "text/plain": [
       "0.3013477088948787"
      ]
     },
     "execution_count": 26,
     "metadata": {},
     "output_type": "execute_result"
    }
   ],
   "source": [
    "primeiros_b[0]"
   ]
  },
  {
   "cell_type": "code",
   "execution_count": 27,
   "metadata": {},
   "outputs": [
    {
     "data": {
      "text/plain": [
       "0.3010299956639812"
      ]
     },
     "execution_count": 27,
     "metadata": {},
     "output_type": "execute_result"
    }
   ],
   "source": [
    "np.log10(2) - np.log10(1)"
   ]
  },
  {
   "cell_type": "code",
   "execution_count": 28,
   "metadata": {},
   "outputs": [
    {
     "data": {
      "text/plain": [
       "0.17609125905568124"
      ]
     },
     "execution_count": 28,
     "metadata": {},
     "output_type": "execute_result"
    }
   ],
   "source": [
    "np.log10(3) - np.log10(2)"
   ]
  },
  {
   "cell_type": "code",
   "execution_count": 29,
   "metadata": {},
   "outputs": [
    {
     "data": {
      "text/plain": [
       "0.12493873660829996"
      ]
     },
     "execution_count": 29,
     "metadata": {},
     "output_type": "execute_result"
    }
   ],
   "source": [
    "np.log10(4) - np.log10(3)"
   ]
  },
  {
   "cell_type": "code",
   "execution_count": 30,
   "metadata": {},
   "outputs": [
    {
     "data": {
      "text/plain": [
       "0.09691001300805646"
      ]
     },
     "execution_count": 30,
     "metadata": {},
     "output_type": "execute_result"
    }
   ],
   "source": [
    "np.log10(5) - np.log10(4)"
   ]
  },
  {
   "cell_type": "code",
   "execution_count": 31,
   "metadata": {},
   "outputs": [],
   "source": [
    "benford = np.zeros(9)"
   ]
  },
  {
   "cell_type": "code",
   "execution_count": 32,
   "metadata": {},
   "outputs": [],
   "source": [
    "for i in range(9):\n",
    "    benford[i]  = np.log10(i + 2) - np.log10(i + 1)"
   ]
  },
  {
   "cell_type": "code",
   "execution_count": 33,
   "metadata": {},
   "outputs": [
    {
     "data": {
      "text/plain": [
       "array([0.30103   , 0.17609126, 0.12493874, 0.09691001, 0.07918125,\n",
       "       0.06694679, 0.05799195, 0.05115252, 0.04575749])"
      ]
     },
     "execution_count": 33,
     "metadata": {},
     "output_type": "execute_result"
    }
   ],
   "source": [
    "benford"
   ]
  },
  {
   "cell_type": "code",
   "execution_count": 34,
   "metadata": {},
   "outputs": [
    {
     "data": {
      "text/plain": [
       "array([ 0.00031771,  0.01348646,  0.0082149 , -0.00328917, -0.00658466,\n",
       "       -0.00477249, -0.00516176, -0.00011928, -0.00209172])"
      ]
     },
     "execution_count": 34,
     "metadata": {},
     "output_type": "execute_result"
    }
   ],
   "source": [
    "primeiros_b - benford"
   ]
  },
  {
   "cell_type": "markdown",
   "metadata": {},
   "source": [
    "## Plotando gráficos"
   ]
  },
  {
   "cell_type": "code",
   "execution_count": 60,
   "metadata": {},
   "outputs": [
    {
     "data": {
      "text/plain": [
       "<BarContainer object of 9 artists>"
      ]
     },
     "execution_count": 60,
     "metadata": {},
     "output_type": "execute_result"
    },
    {
     "data": {
      "image/png": "[encoded data removed]",
      "text/plain": [
       "<Figure size 432x288 with 1 Axes>"
      ]
     },
     "metadata": {},
     "output_type": "display_data"
    }
   ],
   "source": [
    "eixo_x = np.array([0,2,4,6,8,10,12,14,16])\n",
    "plt.bar(eixo_x,primeiros_b)\n",
    "plt.bar(eixo_x+1,benford)"
   ]
  },
  {
   "cell_type": "markdown",
   "metadata": {},
   "source": [
    "# Todos os dígitos"
   ]
  },
  {
   "cell_type": "code",
   "execution_count": 35,
   "metadata": {},
   "outputs": [
    {
     "data": {
      "text/plain": [
       "'3958,3'"
      ]
     },
     "execution_count": 35,
     "metadata": {},
     "output_type": "execute_result"
    }
   ],
   "source": [
    "base1.iloc[1][1]"
   ]
  },
  {
   "cell_type": "code",
   "execution_count": 36,
   "metadata": {},
   "outputs": [
    {
     "data": {
      "text/plain": [
       "3958.3"
      ]
     },
     "execution_count": 36,
     "metadata": {},
     "output_type": "execute_result"
    }
   ],
   "source": [
    "float(base1.iloc[1][1].replace(',','.'))"
   ]
  },
  {
   "cell_type": "code",
   "execution_count": 37,
   "metadata": {},
   "outputs": [
    {
     "data": {
      "text/plain": [
       "2651.8"
      ]
     },
     "execution_count": 37,
     "metadata": {},
     "output_type": "execute_result"
    }
   ],
   "source": [
    "float(base1.iloc[2][1].replace(',','.'))"
   ]
  },
  {
   "cell_type": "code",
   "execution_count": 38,
   "metadata": {},
   "outputs": [
    {
     "data": {
      "text/plain": [
       "2651"
      ]
     },
     "execution_count": 38,
     "metadata": {},
     "output_type": "execute_result"
    }
   ],
   "source": [
    "int(float(base1.iloc[2][1].replace(',','.')))"
   ]
  },
  {
   "cell_type": "code",
   "execution_count": 39,
   "metadata": {},
   "outputs": [
    {
     "data": {
      "text/plain": [
       "'3958,3'"
      ]
     },
     "execution_count": 39,
     "metadata": {},
     "output_type": "execute_result"
    }
   ],
   "source": [
    "a = base1.iloc[1][1]\n",
    "a"
   ]
  },
  {
   "cell_type": "code",
   "execution_count": 40,
   "metadata": {},
   "outputs": [
    {
     "data": {
      "text/plain": [
       "True"
      ]
     },
     "execution_count": 40,
     "metadata": {},
     "output_type": "execute_result"
    }
   ],
   "source": [
    "a[0].isdigit()"
   ]
  },
  {
   "cell_type": "code",
   "execution_count": 41,
   "metadata": {},
   "outputs": [
    {
     "data": {
      "text/plain": [
       "array([[0., 0., 0., 0., 0., 0., 0., 0., 0., 0.],\n",
       "       [0., 0., 0., 0., 0., 0., 0., 0., 0., 0.],\n",
       "       [0., 0., 0., 0., 0., 0., 0., 0., 0., 0.],\n",
       "       [0., 0., 0., 0., 0., 0., 0., 0., 0., 0.],\n",
       "       [0., 0., 0., 0., 0., 0., 0., 0., 0., 0.],\n",
       "       [0., 0., 0., 0., 0., 0., 0., 0., 0., 0.],\n",
       "       [0., 0., 0., 0., 0., 0., 0., 0., 0., 0.],\n",
       "       [0., 0., 0., 0., 0., 0., 0., 0., 0., 0.],\n",
       "       [0., 0., 0., 0., 0., 0., 0., 0., 0., 0.],\n",
       "       [0., 0., 0., 0., 0., 0., 0., 0., 0., 0.]])"
      ]
     },
     "execution_count": 41,
     "metadata": {},
     "output_type": "execute_result"
    }
   ],
   "source": [
    "todos = np.zeros([10, 10])\n",
    "todos"
   ]
  },
  {
   "cell_type": "code",
   "execution_count": 42,
   "metadata": {},
   "outputs": [
    {
     "data": {
      "text/plain": [
       "array([0., 0., 0., 0., 0., 0., 0., 0., 0., 0.])"
      ]
     },
     "execution_count": 42,
     "metadata": {},
     "output_type": "execute_result"
    }
   ],
   "source": [
    "todos[0]\n",
    "todos[1]\n",
    "todos[2]"
   ]
  },
  {
   "cell_type": "code",
   "execution_count": 43,
   "metadata": {},
   "outputs": [],
   "source": [
    "def recur(a):\n",
    "    loop = len(a)\n",
    "    for i in range(loop):\n",
    "        if a[i].isdigit():\n",
    "            todos[i][int(a[i])] += 1 "
   ]
  },
  {
   "cell_type": "code",
   "execution_count": 44,
   "metadata": {},
   "outputs": [
    {
     "data": {
      "text/plain": [
       "True"
      ]
     },
     "execution_count": 44,
     "metadata": {},
     "output_type": "execute_result"
    }
   ],
   "source": [
    "\"12.3.4\".replace('.','').isdigit()"
   ]
  },
  {
   "cell_type": "code",
   "execution_count": 45,
   "metadata": {},
   "outputs": [],
   "source": [
    "recur(a)"
   ]
  },
  {
   "cell_type": "code",
   "execution_count": 47,
   "metadata": {},
   "outputs": [
    {
     "data": {
      "text/plain": [
       "'3958,3'"
      ]
     },
     "execution_count": 47,
     "metadata": {},
     "output_type": "execute_result"
    }
   ],
   "source": [
    "a"
   ]
  },
  {
   "cell_type": "code",
   "execution_count": 46,
   "metadata": {},
   "outputs": [
    {
     "data": {
      "text/plain": [
       "array([[0., 0., 0., 1., 0., 0., 0., 0., 0., 0.],\n",
       "       [0., 0., 0., 0., 0., 0., 0., 0., 0., 1.],\n",
       "       [0., 0., 0., 0., 0., 1., 0., 0., 0., 0.],\n",
       "       [0., 0., 0., 0., 0., 0., 0., 0., 1., 0.],\n",
       "       [0., 0., 0., 0., 0., 0., 0., 0., 0., 0.],\n",
       "       [0., 0., 0., 1., 0., 0., 0., 0., 0., 0.],\n",
       "       [0., 0., 0., 0., 0., 0., 0., 0., 0., 0.],\n",
       "       [0., 0., 0., 0., 0., 0., 0., 0., 0., 0.],\n",
       "       [0., 0., 0., 0., 0., 0., 0., 0., 0., 0.],\n",
       "       [0., 0., 0., 0., 0., 0., 0., 0., 0., 0.]])"
      ]
     },
     "execution_count": 46,
     "metadata": {},
     "output_type": "execute_result"
    }
   ],
   "source": [
    "todos"
   ]
  },
  {
   "cell_type": "code",
   "execution_count": 48,
   "metadata": {},
   "outputs": [
    {
     "data": {
      "text/plain": [
       "array([[0., 0., 0., 0., 0., 0., 0., 0., 0., 0.],\n",
       "       [0., 0., 0., 0., 0., 0., 0., 0., 0., 0.],\n",
       "       [0., 0., 0., 0., 0., 0., 0., 0., 0., 0.],\n",
       "       [0., 0., 0., 0., 0., 0., 0., 0., 0., 0.],\n",
       "       [0., 0., 0., 0., 0., 0., 0., 0., 0., 0.],\n",
       "       [0., 0., 0., 0., 0., 0., 0., 0., 0., 0.],\n",
       "       [0., 0., 0., 0., 0., 0., 0., 0., 0., 0.],\n",
       "       [0., 0., 0., 0., 0., 0., 0., 0., 0., 0.],\n",
       "       [0., 0., 0., 0., 0., 0., 0., 0., 0., 0.],\n",
       "       [0., 0., 0., 0., 0., 0., 0., 0., 0., 0.]])"
      ]
     },
     "execution_count": 48,
     "metadata": {},
     "output_type": "execute_result"
    }
   ],
   "source": [
    "todos = np.zeros([10, 10])\n",
    "todos"
   ]
  },
  {
   "cell_type": "code",
   "execution_count": 49,
   "metadata": {},
   "outputs": [],
   "source": [
    "for i in range(base1.shape[0]):\n",
    "    add = base1.iloc[i][1]\n",
    "    recur(add)"
   ]
  },
  {
   "cell_type": "code",
   "execution_count": 51,
   "metadata": {},
   "outputs": [
    {
     "data": {
      "text/plain": [
       "array([   5., 1677., 1055.,  741.,  521.,  404.,  346.,  294.,  284.,\n",
       "        243.])"
      ]
     },
     "execution_count": 51,
     "metadata": {},
     "output_type": "execute_result"
    }
   ],
   "source": [
    "todos[0]"
   ]
  },
  {
   "cell_type": "code",
   "execution_count": null,
   "metadata": {},
   "outputs": [],
   "source": [
    "array([   5., 1677., 1055.,  741.,  521.,  404.,  346.,  294.,  284.,\n",
    "        243.])"
   ]
  },
  {
   "cell_type": "code",
   "execution_count": 53,
   "metadata": {},
   "outputs": [
    {
     "data": {
      "text/plain": [
       "array([   5., 1677., 1055.,  741.,  521.,  404.,  346.,  294.,  284.,\n",
       "        243.])"
      ]
     },
     "execution_count": 53,
     "metadata": {},
     "output_type": "execute_result"
    }
   ],
   "source": [
    "# primeiros digitos\n",
    "todos[0]"
   ]
  },
  {
   "cell_type": "code",
   "execution_count": 54,
   "metadata": {},
   "outputs": [
    {
     "data": {
      "text/plain": [
       "array([675., 619., 652., 590., 584., 573., 456., 475., 479., 460.])"
      ]
     },
     "execution_count": 54,
     "metadata": {},
     "output_type": "execute_result"
    }
   ],
   "source": [
    "# segundos digitos\n",
    "todos[1]"
   ]
  },
  {
   "cell_type": "code",
   "execution_count": 55,
   "metadata": {},
   "outputs": [
    {
     "data": {
      "text/plain": [
       "array([515., 521., 523., 512., 520., 548., 484., 508., 500., 511.])"
      ]
     },
     "execution_count": 55,
     "metadata": {},
     "output_type": "execute_result"
    }
   ],
   "source": [
    "# terceiros digitos\n",
    "todos[2]"
   ]
  },
  {
   "cell_type": "code",
   "execution_count": 56,
   "metadata": {},
   "outputs": [
    {
     "data": {
      "text/plain": [
       "array([135., 187., 177., 176., 174., 193., 184., 195., 186., 189.])"
      ]
     },
     "execution_count": 56,
     "metadata": {},
     "output_type": "execute_result"
    }
   ],
   "source": [
    "# quartos dígitos\n",
    "todos[3]"
   ]
  },
  {
   "cell_type": "code",
   "execution_count": null,
   "metadata": {},
   "outputs": [],
   "source": []
  }
 ],
 "metadata": {
  "kernelspec": {
   "display_name": "Python 3",
   "language": "python",
   "name": "python3"
  },
  "language_info": {
   "codemirror_mode": {
    "name": "ipython",
    "version": 3
   },
   "file_extension": ".py",
   "mimetype": "text/x-python",
   "name": "python",
   "nbconvert_exporter": "python",
   "pygments_lexer": "ipython3",
   "version": "3.6.5"
  }
 },
 "nbformat": 4,
 "nbformat_minor": 2
}
