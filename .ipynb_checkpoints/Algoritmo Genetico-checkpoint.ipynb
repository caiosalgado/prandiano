{
 "cells": [
  {
   "cell_type": "markdown",
   "metadata": {},
   "source": [
    "# Modelo Creditus\n"
   ]
  },
  {
   "cell_type": "markdown",
   "metadata": {},
   "source": [
    "PA Percentual de ACerto dos Admimplentes\n",
    "\n",
    "PA=Numero de adimplentes separados corretamente NAC/Total de Adimplentes do Banco de Dados (TA)\n",
    "PI=Numero de inadimplentes separados corretamente NIC/Total de Adimplentes do Banco de Dados (TI)\n",
    "Fitness do Cromossomo - FC "
   ]
  },
  {
   "cell_type": "code",
   "execution_count": 3,
   "metadata": {},
   "outputs": [],
   "source": [
    "#$FC=[PA]*[PI]=[(NAC)/(TA)*(NIC)/(TI)]$\n"
   ]
  },
  {
   "cell_type": "code",
   "execution_count": 4,
   "metadata": {},
   "outputs": [],
   "source": [
    "import numpy as np"
   ]
  },
  {
   "cell_type": "code",
   "execution_count": 5,
   "metadata": {},
   "outputs": [],
   "source": [
    "import pandas as pd"
   ]
  },
  {
   "cell_type": "code",
   "execution_count": 6,
   "metadata": {},
   "outputs": [],
   "source": [
    "a = np.array ([1,0,1,0])"
   ]
  },
  {
   "cell_type": "code",
   "execution_count": 7,
   "metadata": {},
   "outputs": [],
   "source": [
    "b = np.array ([2,2,2,2])"
   ]
  },
  {
   "cell_type": "code",
   "execution_count": 8,
   "metadata": {},
   "outputs": [
    {
     "data": {
      "text/plain": [
       "array([2, 0, 2, 0])"
      ]
     },
     "execution_count": 8,
     "metadata": {},
     "output_type": "execute_result"
    }
   ],
   "source": [
    "a*b"
   ]
  },
  {
   "cell_type": "code",
   "execution_count": 9,
   "metadata": {},
   "outputs": [
    {
     "data": {
      "text/html": [
       "<div>\n",
       "<style scoped>\n",
       "    .dataframe tbody tr th:only-of-type {\n",
       "        vertical-align: middle;\n",
       "    }\n",
       "\n",
       "    .dataframe tbody tr th {\n",
       "        vertical-align: top;\n",
       "    }\n",
       "\n",
       "    .dataframe thead th {\n",
       "        text-align: right;\n",
       "    }\n",
       "</style>\n",
       "<table border=\"1\" class=\"dataframe\">\n",
       "  <thead>\n",
       "    <tr style=\"text-align: right;\">\n",
       "      <th></th>\n",
       "      <th>X11</th>\n",
       "      <th>X12</th>\n",
       "      <th>X21</th>\n",
       "      <th>X22</th>\n",
       "      <th>X31</th>\n",
       "      <th>X32</th>\n",
       "      <th>X41</th>\n",
       "      <th>X42</th>\n",
       "      <th>X51</th>\n",
       "      <th>X52</th>\n",
       "      <th>X61</th>\n",
       "      <th>X62</th>\n",
       "      <th>X71</th>\n",
       "      <th>X72</th>\n",
       "      <th>X81</th>\n",
       "      <th>X82</th>\n",
       "      <th>X91</th>\n",
       "      <th>X92</th>\n",
       "      <th>Resultado</th>\n",
       "    </tr>\n",
       "    <tr>\n",
       "      <th>Lições</th>\n",
       "      <th></th>\n",
       "      <th></th>\n",
       "      <th></th>\n",
       "      <th></th>\n",
       "      <th></th>\n",
       "      <th></th>\n",
       "      <th></th>\n",
       "      <th></th>\n",
       "      <th></th>\n",
       "      <th></th>\n",
       "      <th></th>\n",
       "      <th></th>\n",
       "      <th></th>\n",
       "      <th></th>\n",
       "      <th></th>\n",
       "      <th></th>\n",
       "      <th></th>\n",
       "      <th></th>\n",
       "      <th></th>\n",
       "    </tr>\n",
       "  </thead>\n",
       "  <tbody>\n",
       "    <tr>\n",
       "      <th>Y001</th>\n",
       "      <td>1</td>\n",
       "      <td>0</td>\n",
       "      <td>0</td>\n",
       "      <td>1</td>\n",
       "      <td>1</td>\n",
       "      <td>0</td>\n",
       "      <td>0</td>\n",
       "      <td>1</td>\n",
       "      <td>0</td>\n",
       "      <td>1</td>\n",
       "      <td>1</td>\n",
       "      <td>0</td>\n",
       "      <td>0</td>\n",
       "      <td>1</td>\n",
       "      <td>1</td>\n",
       "      <td>0</td>\n",
       "      <td>1</td>\n",
       "      <td>0</td>\n",
       "      <td>A</td>\n",
       "    </tr>\n",
       "    <tr>\n",
       "      <th>Y002</th>\n",
       "      <td>0</td>\n",
       "      <td>1</td>\n",
       "      <td>0</td>\n",
       "      <td>1</td>\n",
       "      <td>1</td>\n",
       "      <td>0</td>\n",
       "      <td>0</td>\n",
       "      <td>1</td>\n",
       "      <td>0</td>\n",
       "      <td>1</td>\n",
       "      <td>1</td>\n",
       "      <td>0</td>\n",
       "      <td>0</td>\n",
       "      <td>1</td>\n",
       "      <td>1</td>\n",
       "      <td>0</td>\n",
       "      <td>1</td>\n",
       "      <td>0</td>\n",
       "      <td>A</td>\n",
       "    </tr>\n",
       "    <tr>\n",
       "      <th>Y003</th>\n",
       "      <td>1</td>\n",
       "      <td>0</td>\n",
       "      <td>1</td>\n",
       "      <td>0</td>\n",
       "      <td>0</td>\n",
       "      <td>1</td>\n",
       "      <td>1</td>\n",
       "      <td>0</td>\n",
       "      <td>1</td>\n",
       "      <td>0</td>\n",
       "      <td>0</td>\n",
       "      <td>1</td>\n",
       "      <td>1</td>\n",
       "      <td>0</td>\n",
       "      <td>0</td>\n",
       "      <td>1</td>\n",
       "      <td>0</td>\n",
       "      <td>1</td>\n",
       "      <td>I</td>\n",
       "    </tr>\n",
       "    <tr>\n",
       "      <th>Y004</th>\n",
       "      <td>1</td>\n",
       "      <td>0</td>\n",
       "      <td>1</td>\n",
       "      <td>0</td>\n",
       "      <td>0</td>\n",
       "      <td>1</td>\n",
       "      <td>1</td>\n",
       "      <td>0</td>\n",
       "      <td>1</td>\n",
       "      <td>0</td>\n",
       "      <td>0</td>\n",
       "      <td>1</td>\n",
       "      <td>1</td>\n",
       "      <td>0</td>\n",
       "      <td>0</td>\n",
       "      <td>1</td>\n",
       "      <td>0</td>\n",
       "      <td>1</td>\n",
       "      <td>I</td>\n",
       "    </tr>\n",
       "    <tr>\n",
       "      <th>Y005</th>\n",
       "      <td>0</td>\n",
       "      <td>1</td>\n",
       "      <td>0</td>\n",
       "      <td>1</td>\n",
       "      <td>1</td>\n",
       "      <td>0</td>\n",
       "      <td>0</td>\n",
       "      <td>1</td>\n",
       "      <td>0</td>\n",
       "      <td>1</td>\n",
       "      <td>1</td>\n",
       "      <td>0</td>\n",
       "      <td>0</td>\n",
       "      <td>1</td>\n",
       "      <td>1</td>\n",
       "      <td>0</td>\n",
       "      <td>1</td>\n",
       "      <td>0</td>\n",
       "      <td>A</td>\n",
       "    </tr>\n",
       "    <tr>\n",
       "      <th>Y006</th>\n",
       "      <td>0</td>\n",
       "      <td>1</td>\n",
       "      <td>0</td>\n",
       "      <td>1</td>\n",
       "      <td>1</td>\n",
       "      <td>0</td>\n",
       "      <td>1</td>\n",
       "      <td>0</td>\n",
       "      <td>1</td>\n",
       "      <td>0</td>\n",
       "      <td>1</td>\n",
       "      <td>0</td>\n",
       "      <td>0</td>\n",
       "      <td>1</td>\n",
       "      <td>1</td>\n",
       "      <td>0</td>\n",
       "      <td>0</td>\n",
       "      <td>1</td>\n",
       "      <td>A</td>\n",
       "    </tr>\n",
       "    <tr>\n",
       "      <th>Y007</th>\n",
       "      <td>0</td>\n",
       "      <td>1</td>\n",
       "      <td>0</td>\n",
       "      <td>1</td>\n",
       "      <td>0</td>\n",
       "      <td>1</td>\n",
       "      <td>0</td>\n",
       "      <td>1</td>\n",
       "      <td>0</td>\n",
       "      <td>1</td>\n",
       "      <td>1</td>\n",
       "      <td>0</td>\n",
       "      <td>1</td>\n",
       "      <td>0</td>\n",
       "      <td>1</td>\n",
       "      <td>0</td>\n",
       "      <td>0</td>\n",
       "      <td>1</td>\n",
       "      <td>A</td>\n",
       "    </tr>\n",
       "    <tr>\n",
       "      <th>Y008</th>\n",
       "      <td>1</td>\n",
       "      <td>0</td>\n",
       "      <td>1</td>\n",
       "      <td>0</td>\n",
       "      <td>0</td>\n",
       "      <td>1</td>\n",
       "      <td>1</td>\n",
       "      <td>0</td>\n",
       "      <td>1</td>\n",
       "      <td>0</td>\n",
       "      <td>0</td>\n",
       "      <td>1</td>\n",
       "      <td>1</td>\n",
       "      <td>0</td>\n",
       "      <td>1</td>\n",
       "      <td>0</td>\n",
       "      <td>0</td>\n",
       "      <td>1</td>\n",
       "      <td>I</td>\n",
       "    </tr>\n",
       "    <tr>\n",
       "      <th>Y009</th>\n",
       "      <td>1</td>\n",
       "      <td>0</td>\n",
       "      <td>1</td>\n",
       "      <td>0</td>\n",
       "      <td>0</td>\n",
       "      <td>1</td>\n",
       "      <td>1</td>\n",
       "      <td>0</td>\n",
       "      <td>1</td>\n",
       "      <td>0</td>\n",
       "      <td>0</td>\n",
       "      <td>1</td>\n",
       "      <td>1</td>\n",
       "      <td>0</td>\n",
       "      <td>0</td>\n",
       "      <td>1</td>\n",
       "      <td>0</td>\n",
       "      <td>1</td>\n",
       "      <td>I</td>\n",
       "    </tr>\n",
       "    <tr>\n",
       "      <th>Y010</th>\n",
       "      <td>1</td>\n",
       "      <td>0</td>\n",
       "      <td>1</td>\n",
       "      <td>0</td>\n",
       "      <td>0</td>\n",
       "      <td>1</td>\n",
       "      <td>1</td>\n",
       "      <td>0</td>\n",
       "      <td>0</td>\n",
       "      <td>1</td>\n",
       "      <td>1</td>\n",
       "      <td>0</td>\n",
       "      <td>1</td>\n",
       "      <td>0</td>\n",
       "      <td>0</td>\n",
       "      <td>1</td>\n",
       "      <td>0</td>\n",
       "      <td>1</td>\n",
       "      <td>I</td>\n",
       "    </tr>\n",
       "  </tbody>\n",
       "</table>\n",
       "</div>"
      ],
      "text/plain": [
       "        X11  X12  X21  X22  X31  X32  X41  X42  X51  X52  X61  X62  X71  X72  \\\n",
       "Lições                                                                         \n",
       "Y001      1    0    0    1    1    0    0    1    0    1    1    0    0    1   \n",
       "Y002      0    1    0    1    1    0    0    1    0    1    1    0    0    1   \n",
       "Y003      1    0    1    0    0    1    1    0    1    0    0    1    1    0   \n",
       "Y004      1    0    1    0    0    1    1    0    1    0    0    1    1    0   \n",
       "Y005      0    1    0    1    1    0    0    1    0    1    1    0    0    1   \n",
       "Y006      0    1    0    1    1    0    1    0    1    0    1    0    0    1   \n",
       "Y007      0    1    0    1    0    1    0    1    0    1    1    0    1    0   \n",
       "Y008      1    0    1    0    0    1    1    0    1    0    0    1    1    0   \n",
       "Y009      1    0    1    0    0    1    1    0    1    0    0    1    1    0   \n",
       "Y010      1    0    1    0    0    1    1    0    0    1    1    0    1    0   \n",
       "\n",
       "        X81  X82  X91  X92 Resultado  \n",
       "Lições                                \n",
       "Y001      1    0    1    0         A  \n",
       "Y002      1    0    1    0         A  \n",
       "Y003      0    1    0    1         I  \n",
       "Y004      0    1    0    1         I  \n",
       "Y005      1    0    1    0         A  \n",
       "Y006      1    0    0    1         A  \n",
       "Y007      1    0    0    1         A  \n",
       "Y008      1    0    0    1         I  \n",
       "Y009      0    1    0    1         I  \n",
       "Y010      0    1    0    1         I  "
      ]
     },
     "execution_count": 9,
     "metadata": {},
     "output_type": "execute_result"
    }
   ],
   "source": [
    "licoes = pd.read_csv('Creditus-Dados.csv', sep=';' , index_col = 0)\n",
    "licoes.head (10)"
   ]
  },
  {
   "cell_type": "code",
   "execution_count": 10,
   "metadata": {},
   "outputs": [
    {
     "data": {
      "text/plain": [
       "(558, 19)"
      ]
     },
     "execution_count": 10,
     "metadata": {},
     "output_type": "execute_result"
    }
   ],
   "source": [
    "licoes.shape"
   ]
  },
  {
   "cell_type": "code",
   "execution_count": 11,
   "metadata": {},
   "outputs": [
    {
     "data": {
      "text/plain": [
       "array([-0.22954181, -0.50199209,  0.51854225, -0.0369173 , -0.74982599,\n",
       "        0.65427646,  0.71569353, -0.40889077, -0.99811546, -0.42241671,\n",
       "       -0.42112074, -0.18426156, -0.9618869 , -0.38197081,  0.03906758,\n",
       "        0.79960247,  0.67531539,  0.17619729])"
      ]
     },
     "execution_count": 11,
     "metadata": {},
     "output_type": "execute_result"
    }
   ],
   "source": [
    "sort = np.random.uniform (low=-1.,high=1.01, size= (licoes.shape [1]-1,))\n",
    "sort"
   ]
  },
  {
   "cell_type": "code",
   "execution_count": 12,
   "metadata": {},
   "outputs": [
    {
     "data": {
      "text/plain": [
       "(558, 18)"
      ]
     },
     "execution_count": 12,
     "metadata": {},
     "output_type": "execute_result"
    }
   ],
   "source": [
    "licoes2 = licoes.drop (['Resultado'], axis=1)\n",
    "licoes2.shape"
   ]
  },
  {
   "cell_type": "markdown",
   "metadata": {},
   "source": [
    "    '''python\n",
    "    licoes2 = licoes.drop (['Y001'], axis=0) # excluir linha (lição) do banco de dados. \n",
    "    licoes2.shape\n",
    "    '''"
   ]
  },
  {
   "cell_type": "code",
   "execution_count": 13,
   "metadata": {},
   "outputs": [
    {
     "data": {
      "text/html": [
       "<div>\n",
       "<style scoped>\n",
       "    .dataframe tbody tr th:only-of-type {\n",
       "        vertical-align: middle;\n",
       "    }\n",
       "\n",
       "    .dataframe tbody tr th {\n",
       "        vertical-align: top;\n",
       "    }\n",
       "\n",
       "    .dataframe thead th {\n",
       "        text-align: right;\n",
       "    }\n",
       "</style>\n",
       "<table border=\"1\" class=\"dataframe\">\n",
       "  <thead>\n",
       "    <tr style=\"text-align: right;\">\n",
       "      <th></th>\n",
       "      <th>X11</th>\n",
       "      <th>X12</th>\n",
       "      <th>X21</th>\n",
       "      <th>X22</th>\n",
       "      <th>X31</th>\n",
       "      <th>X32</th>\n",
       "      <th>X41</th>\n",
       "      <th>X42</th>\n",
       "      <th>X51</th>\n",
       "      <th>X52</th>\n",
       "      <th>X61</th>\n",
       "      <th>X62</th>\n",
       "      <th>X71</th>\n",
       "      <th>X72</th>\n",
       "      <th>X81</th>\n",
       "      <th>X82</th>\n",
       "      <th>X91</th>\n",
       "      <th>X92</th>\n",
       "    </tr>\n",
       "    <tr>\n",
       "      <th>Lições</th>\n",
       "      <th></th>\n",
       "      <th></th>\n",
       "      <th></th>\n",
       "      <th></th>\n",
       "      <th></th>\n",
       "      <th></th>\n",
       "      <th></th>\n",
       "      <th></th>\n",
       "      <th></th>\n",
       "      <th></th>\n",
       "      <th></th>\n",
       "      <th></th>\n",
       "      <th></th>\n",
       "      <th></th>\n",
       "      <th></th>\n",
       "      <th></th>\n",
       "      <th></th>\n",
       "      <th></th>\n",
       "    </tr>\n",
       "  </thead>\n",
       "  <tbody>\n",
       "    <tr>\n",
       "      <th>Y001</th>\n",
       "      <td>1</td>\n",
       "      <td>0</td>\n",
       "      <td>0</td>\n",
       "      <td>1</td>\n",
       "      <td>1</td>\n",
       "      <td>0</td>\n",
       "      <td>0</td>\n",
       "      <td>1</td>\n",
       "      <td>0</td>\n",
       "      <td>1</td>\n",
       "      <td>1</td>\n",
       "      <td>0</td>\n",
       "      <td>0</td>\n",
       "      <td>1</td>\n",
       "      <td>1</td>\n",
       "      <td>0</td>\n",
       "      <td>1</td>\n",
       "      <td>0</td>\n",
       "    </tr>\n",
       "    <tr>\n",
       "      <th>Y002</th>\n",
       "      <td>0</td>\n",
       "      <td>1</td>\n",
       "      <td>0</td>\n",
       "      <td>1</td>\n",
       "      <td>1</td>\n",
       "      <td>0</td>\n",
       "      <td>0</td>\n",
       "      <td>1</td>\n",
       "      <td>0</td>\n",
       "      <td>1</td>\n",
       "      <td>1</td>\n",
       "      <td>0</td>\n",
       "      <td>0</td>\n",
       "      <td>1</td>\n",
       "      <td>1</td>\n",
       "      <td>0</td>\n",
       "      <td>1</td>\n",
       "      <td>0</td>\n",
       "    </tr>\n",
       "    <tr>\n",
       "      <th>Y003</th>\n",
       "      <td>1</td>\n",
       "      <td>0</td>\n",
       "      <td>1</td>\n",
       "      <td>0</td>\n",
       "      <td>0</td>\n",
       "      <td>1</td>\n",
       "      <td>1</td>\n",
       "      <td>0</td>\n",
       "      <td>1</td>\n",
       "      <td>0</td>\n",
       "      <td>0</td>\n",
       "      <td>1</td>\n",
       "      <td>1</td>\n",
       "      <td>0</td>\n",
       "      <td>0</td>\n",
       "      <td>1</td>\n",
       "      <td>0</td>\n",
       "      <td>1</td>\n",
       "    </tr>\n",
       "    <tr>\n",
       "      <th>Y004</th>\n",
       "      <td>1</td>\n",
       "      <td>0</td>\n",
       "      <td>1</td>\n",
       "      <td>0</td>\n",
       "      <td>0</td>\n",
       "      <td>1</td>\n",
       "      <td>1</td>\n",
       "      <td>0</td>\n",
       "      <td>1</td>\n",
       "      <td>0</td>\n",
       "      <td>0</td>\n",
       "      <td>1</td>\n",
       "      <td>1</td>\n",
       "      <td>0</td>\n",
       "      <td>0</td>\n",
       "      <td>1</td>\n",
       "      <td>0</td>\n",
       "      <td>1</td>\n",
       "    </tr>\n",
       "    <tr>\n",
       "      <th>Y005</th>\n",
       "      <td>0</td>\n",
       "      <td>1</td>\n",
       "      <td>0</td>\n",
       "      <td>1</td>\n",
       "      <td>1</td>\n",
       "      <td>0</td>\n",
       "      <td>0</td>\n",
       "      <td>1</td>\n",
       "      <td>0</td>\n",
       "      <td>1</td>\n",
       "      <td>1</td>\n",
       "      <td>0</td>\n",
       "      <td>0</td>\n",
       "      <td>1</td>\n",
       "      <td>1</td>\n",
       "      <td>0</td>\n",
       "      <td>1</td>\n",
       "      <td>0</td>\n",
       "    </tr>\n",
       "  </tbody>\n",
       "</table>\n",
       "</div>"
      ],
      "text/plain": [
       "        X11  X12  X21  X22  X31  X32  X41  X42  X51  X52  X61  X62  X71  X72  \\\n",
       "Lições                                                                         \n",
       "Y001      1    0    0    1    1    0    0    1    0    1    1    0    0    1   \n",
       "Y002      0    1    0    1    1    0    0    1    0    1    1    0    0    1   \n",
       "Y003      1    0    1    0    0    1    1    0    1    0    0    1    1    0   \n",
       "Y004      1    0    1    0    0    1    1    0    1    0    0    1    1    0   \n",
       "Y005      0    1    0    1    1    0    0    1    0    1    1    0    0    1   \n",
       "\n",
       "        X81  X82  X91  X92  \n",
       "Lições                      \n",
       "Y001      1    0    1    0  \n",
       "Y002      1    0    1    0  \n",
       "Y003      0    1    0    1  \n",
       "Y004      0    1    0    1  \n",
       "Y005      1    0    1    0  "
      ]
     },
     "execution_count": 13,
     "metadata": {},
     "output_type": "execute_result"
    }
   ],
   "source": [
    "licoes2.head()"
   ]
  },
  {
   "cell_type": "code",
   "execution_count": 14,
   "metadata": {},
   "outputs": [
    {
     "data": {
      "text/plain": [
       "-1.9363011734790463"
      ]
     },
     "execution_count": 14,
     "metadata": {},
     "output_type": "execute_result"
    }
   ],
   "source": [
    "c1 = (licoes2.iloc[0]*sort) #cromossomo 1\n",
    "c1.values.sum ()"
   ]
  },
  {
   "cell_type": "code",
   "execution_count": 15,
   "metadata": {},
   "outputs": [
    {
     "data": {
      "text/plain": [
       "array([0., 0., 0., 0., 0., 0., 0., 0., 0., 0., 0., 0., 0., 0., 0., 0., 0.,\n",
       "       0., 0., 0., 0., 0., 0., 0., 0., 0., 0., 0., 0., 0., 0., 0., 0., 0.,\n",
       "       0., 0., 0., 0., 0., 0., 0., 0., 0., 0., 0., 0., 0., 0., 0., 0., 0.,\n",
       "       0., 0., 0., 0., 0., 0., 0., 0., 0., 0., 0., 0., 0., 0., 0., 0., 0.,\n",
       "       0., 0., 0., 0., 0., 0., 0., 0., 0., 0., 0., 0., 0., 0., 0., 0., 0.,\n",
       "       0., 0., 0., 0., 0., 0., 0., 0., 0., 0., 0., 0., 0., 0., 0.])"
      ]
     },
     "execution_count": 15,
     "metadata": {},
     "output_type": "execute_result"
    }
   ],
   "source": [
    "c100 = np.zeros(100)\n",
    "c100"
   ]
  },
  {
   "cell_type": "code",
   "execution_count": 16,
   "metadata": {},
   "outputs": [
    {
     "data": {
      "text/plain": [
       "0.0"
      ]
     },
     "execution_count": 16,
     "metadata": {},
     "output_type": "execute_result"
    }
   ],
   "source": [
    "c100 [0] # check da funçao anterior"
   ]
  },
  {
   "cell_type": "markdown",
   "metadata": {},
   "source": [
    "# Calcular o Fitness"
   ]
  },
  {
   "cell_type": "code",
   "execution_count": 17,
   "metadata": {},
   "outputs": [],
   "source": [
    "nac = 0\n",
    "nic = 0\n",
    "ta = 0\n",
    "ti = 0\n",
    "for i in range(100):\n",
    "    #  import ipdb; ipdb.set_trace() #debugging starts here\n",
    "    s = int(np.random.randint(licoes.shape[0],size=1))\n",
    "    c100[i]=(licoes2.iloc[s] * sort).values.sum()\n",
    "    if c100[i] > 0 and licoes.iloc[s][-1] == 'A':\n",
    "        nac += 1\n",
    "    elif c100[i] < 0 and licoes.iloc[s][-1] == 'I':\n",
    "        nic += 1\n",
    "    if licoes.iloc[s][-1] == 'A':\n",
    "        ta += 1\n",
    "    else:\n",
    "        ti += 1"
   ]
  },
  {
   "cell_type": "code",
   "execution_count": 18,
   "metadata": {},
   "outputs": [
    {
     "data": {
      "text/plain": [
       "6"
      ]
     },
     "execution_count": 18,
     "metadata": {},
     "output_type": "execute_result"
    }
   ],
   "source": [
    "nac"
   ]
  },
  {
   "cell_type": "code",
   "execution_count": 19,
   "metadata": {},
   "outputs": [
    {
     "data": {
      "text/plain": [
       "47"
      ]
     },
     "execution_count": 19,
     "metadata": {},
     "output_type": "execute_result"
    }
   ],
   "source": [
    "nic"
   ]
  },
  {
   "cell_type": "code",
   "execution_count": 20,
   "metadata": {},
   "outputs": [
    {
     "data": {
      "text/plain": [
       "43"
      ]
     },
     "execution_count": 20,
     "metadata": {},
     "output_type": "execute_result"
    }
   ],
   "source": [
    "ta"
   ]
  },
  {
   "cell_type": "code",
   "execution_count": 21,
   "metadata": {},
   "outputs": [
    {
     "data": {
      "text/plain": [
       "57"
      ]
     },
     "execution_count": 21,
     "metadata": {},
     "output_type": "execute_result"
    }
   ],
   "source": [
    "ti"
   ]
  },
  {
   "cell_type": "code",
   "execution_count": 22,
   "metadata": {},
   "outputs": [
    {
     "data": {
      "text/plain": [
       "0.11505507955936352"
      ]
     },
     "execution_count": 22,
     "metadata": {},
     "output_type": "execute_result"
    }
   ],
   "source": [
    "fit1 = (nac*nic)/(ta*ti)\n",
    "fit1\n"
   ]
  },
  {
   "cell_type": "markdown",
   "metadata": {},
   "source": [
    "# Criar funcoes"
   ]
  },
  {
   "cell_type": "code",
   "execution_count": 23,
   "metadata": {},
   "outputs": [],
   "source": [
    "def criar_banco_cromossomos (numerocromossomos):\n",
    "    banco = np.zeros([numerocromossomos,licoes.shape [1]-1])\n",
    "    for i in range (numerocromossomos):\n",
    "        sort = np.random.uniform (low=-1.,high=1.01, size= (licoes.shape [1]-1,))\n",
    "        banco[i] = sort\n",
    "    return banco\n",
    "    \n",
    "\n"
   ]
  },
  {
   "cell_type": "code",
   "execution_count": 24,
   "metadata": {},
   "outputs": [],
   "source": [
    "def calcular_fit (x):\n",
    "    nac = 0\n",
    "    nic = 0\n",
    "    ta = 0\n",
    "    ti = 0\n",
    "    for i in range(100):\n",
    "        #  import ipdb; ipdb.set_trace() #debugging starts here\n",
    "        s = int(np.random.randint(licoes.shape[0],size=1))\n",
    "        c100[i]=(licoes2.iloc[s] * x).values.sum()\n",
    "        if c100[i] > 0 and licoes.iloc[s][-1] == 'A':\n",
    "            nac += 1\n",
    "        elif c100[i] < 0 and licoes.iloc[s][-1] == 'I':\n",
    "            nic += 1\n",
    "        if licoes.iloc[s][-1] == 'A':\n",
    "            ta += 1\n",
    "        else:\n",
    "            ti += 1\n",
    "    fit1 = (nac*nic)/(ta*ti)\n",
    "    return fit1"
   ]
  },
  {
   "cell_type": "code",
   "execution_count": 25,
   "metadata": {},
   "outputs": [],
   "source": [
    "def definir_pesos(cromos_fit):\n",
    "    pesos_fit = np.zeros(cromos_fit.shape[0])\n",
    "    for i in range(cromos_fit.shape[0]):\n",
    "        pesos_fit[i] = cromos_fit[i] / cromos_fit.sum()\n",
    "    return pesos_fit    "
   ]
  },
  {
   "cell_type": "code",
   "execution_count": 26,
   "metadata": {},
   "outputs": [],
   "source": [
    "def cross(vetor1, vetor2):\n",
    "    s = int(np.random.randint(1,vetor1.size, size=1))\n",
    "    x = vetor1[:s]\n",
    "    y = vetor2[s:]\n",
    "    return np.concatenate((x,y))"
   ]
  },
  {
   "cell_type": "code",
   "execution_count": 27,
   "metadata": {},
   "outputs": [],
   "source": [
    "def x_men(vetor):\n",
    "    s = np.random.randint(vetor.size, size=1)\n",
    "    vetor[s] = np.random.uniform(low=-1.,high=1.01, size=1)"
   ]
  },
  {
   "cell_type": "code",
   "execution_count": 28,
   "metadata": {},
   "outputs": [],
   "source": [
    "def menor_fit(cromos):\n",
    "    a = np.where(np.array(cromos) == np.array(cromos).min())[0][0]\n",
    "    return cromos[a], a"
   ]
  },
  {
   "cell_type": "code",
   "execution_count": 29,
   "metadata": {},
   "outputs": [],
   "source": [
    "def roda_acaso(fits):\n",
    "    fits = fits.cumsum()\n",
    "    s1 = np.random.rand()\n",
    "    for i in range(fits.shape[0]):\n",
    "        if s1 <= fits[i]:\n",
    "            return i"
   ]
  },
  {
   "cell_type": "markdown",
   "metadata": {},
   "source": [
    "# Implementacao AG"
   ]
  },
  {
   "cell_type": "code",
   "execution_count": 45,
   "metadata": {},
   "outputs": [],
   "source": [
    "cromos1 = criar_banco_cromossomos(8)\n",
    "for ii in range(100):\n",
    "    #import ipdb; ipdb.set_trace() #debugging starts here\n",
    "    fits1 = np.zeros(cromos1.shape[0])\n",
    "    pesos1 = np.zeros(cromos1.shape[0])\n",
    "    for jj in range(cromos1.shape[0]):\n",
    "        fits1[jj] = calcular_fit(cromos1[jj])\n",
    "    pesos1 = definir_pesos(fits1)\n",
    "    s1 = roda_acaso(pesos1)\n",
    "    s2 = roda_acaso(pesos1)\n",
    "    while s1 == s2:\n",
    "        s2 = roda_acaso(pesos1)\n",
    "    m, v = menor_fit(fits1)\n",
    "    cs_filho = cross(cromos1[s1], cromos1[s2])\n",
    "    if np.random.rand() > 0.5:\n",
    "        x_men(cs_filho)\n",
    "    cs_menor = m\n",
    "    if calcular_fit(cs_filho) > calcular_fit(cromos1[v]):\n",
    "        cromos1[v] = cs_filho"
   ]
  },
  {
   "cell_type": "markdown",
   "metadata": {},
   "source": [
    "## Verificação de Algoritmo implementado"
   ]
  },
  {
   "cell_type": "code",
   "execution_count": 46,
   "metadata": {},
   "outputs": [
    {
     "name": "stdout",
     "output_type": "stream",
     "text": [
      "0.7903225806451613\n",
      "0.7724014336917563\n",
      "0.6881720430107527\n",
      "0.7186379928315412\n",
      "0.7114695340501792\n",
      "0.7240143369175627\n",
      "0.7544802867383512\n",
      "0.7562724014336918\n"
     ]
    }
   ],
   "source": [
    "for k in range(8):\n",
    "    acertou = 0\n",
    "    for i in range(licoes.shape[0]):\n",
    "        if (licoes2.iloc[i].values * cromos1[k]).sum() > 0 and licoes.iloc[i][-1] == 'A':\n",
    "            acertou += 1\n",
    "        elif (licoes2.iloc[i].values * cromos1[k]).sum() < 0 and licoes.iloc[i][-1] == 'I':\n",
    "            acertou += 1\n",
    "    acertos = acertou/licoes.shape[0]\n",
    "    print(acertos)"
   ]
  },
  {
   "cell_type": "code",
   "execution_count": 31,
   "metadata": {},
   "outputs": [],
   "source": [
    "cromos1 = criar_banco_cromossomos(20)\n",
    "contador = 0\n",
    "while cromos1[0].sum().std() > 0.01:\n",
    "    #import ipdb; ipdb.set_trace() #debugging starts here\n",
    "    fits1 = np.zeros(cromos1.shape[0])\n",
    "    pesos1 = np.zeros(cromos1.shape[0])\n",
    "    for jj in range(cromos1.shape[0]):\n",
    "        fits1[jj] = calcular_fit(cromos1[jj])\n",
    "    \n",
    "    \n",
    "    \n",
    "    m, v = menor_fit(fits1)\n",
    "    cs_filho = cross(cromos1[s1], cromos1[s2])\n",
    "    if np.random.rand() > 0.5:\n",
    "        x_men(cs_filho)\n",
    "    cs_menor = m\n",
    "    if calcular_fit(cs_filho) > calcular_fit(cromos1[3]):\n",
    "        cromos1[v] = cs_filho\n",
    "    contador +=1"
   ]
  },
  {
   "cell_type": "code",
   "execution_count": null,
   "metadata": {},
   "outputs": [],
   "source": []
  }
 ],
 "metadata": {
  "kernelspec": {
   "display_name": "Python 3",
   "language": "python",
   "name": "python3"
  },
  "language_info": {
   "codemirror_mode": {
    "name": "ipython",
    "version": 3
   },
   "file_extension": ".py",
   "mimetype": "text/x-python",
   "name": "python",
   "nbconvert_exporter": "python",
   "pygments_lexer": "ipython3",
   "version": "3.6.5"
  }
 },
 "nbformat": 4,
 "nbformat_minor": 2
}
