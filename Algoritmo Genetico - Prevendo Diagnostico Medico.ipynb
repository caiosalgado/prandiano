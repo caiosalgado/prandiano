{
 "cells": [
  {
   "cell_type": "code",
   "execution_count": 1,
   "metadata": {},
   "outputs": [],
   "source": [
    "import numpy as np\n",
    "import pandas as pd"
   ]
  },
  {
   "cell_type": "code",
   "execution_count": 2,
   "metadata": {},
   "outputs": [],
   "source": [
    "db = pd.read_csv(\"Diagnosticus.csv\", sep= \";\", index_col = 0 )"
   ]
  },
  {
   "cell_type": "code",
   "execution_count": 3,
   "metadata": {},
   "outputs": [
    {
     "data": {
      "text/html": [
       "<div>\n",
       "<style scoped>\n",
       "    .dataframe tbody tr th:only-of-type {\n",
       "        vertical-align: middle;\n",
       "    }\n",
       "\n",
       "    .dataframe tbody tr th {\n",
       "        vertical-align: top;\n",
       "    }\n",
       "\n",
       "    .dataframe thead th {\n",
       "        text-align: right;\n",
       "    }\n",
       "</style>\n",
       "<table border=\"1\" class=\"dataframe\">\n",
       "  <thead>\n",
       "    <tr style=\"text-align: right;\">\n",
       "      <th></th>\n",
       "      <th>X11</th>\n",
       "      <th>X12</th>\n",
       "      <th>X13</th>\n",
       "      <th>X21</th>\n",
       "      <th>X22</th>\n",
       "      <th>X23</th>\n",
       "      <th>X31</th>\n",
       "      <th>X32</th>\n",
       "      <th>X33</th>\n",
       "      <th>X34</th>\n",
       "      <th>...</th>\n",
       "      <th>X72</th>\n",
       "      <th>X73</th>\n",
       "      <th>X81</th>\n",
       "      <th>X82</th>\n",
       "      <th>X83</th>\n",
       "      <th>X91</th>\n",
       "      <th>X92</th>\n",
       "      <th>X93</th>\n",
       "      <th>X94</th>\n",
       "      <th>Unnamed: 31</th>\n",
       "    </tr>\n",
       "  </thead>\n",
       "  <tbody>\n",
       "    <tr>\n",
       "      <th>Y001</th>\n",
       "      <td>0</td>\n",
       "      <td>1</td>\n",
       "      <td>0</td>\n",
       "      <td>1</td>\n",
       "      <td>0</td>\n",
       "      <td>0</td>\n",
       "      <td>0</td>\n",
       "      <td>1</td>\n",
       "      <td>0</td>\n",
       "      <td>0.0</td>\n",
       "      <td>...</td>\n",
       "      <td>0</td>\n",
       "      <td>1.0</td>\n",
       "      <td>0</td>\n",
       "      <td>0</td>\n",
       "      <td>1</td>\n",
       "      <td>0</td>\n",
       "      <td>0</td>\n",
       "      <td>0</td>\n",
       "      <td>1</td>\n",
       "      <td>P</td>\n",
       "    </tr>\n",
       "    <tr>\n",
       "      <th>Y002</th>\n",
       "      <td>0</td>\n",
       "      <td>1</td>\n",
       "      <td>0</td>\n",
       "      <td>0</td>\n",
       "      <td>1</td>\n",
       "      <td>0</td>\n",
       "      <td>1</td>\n",
       "      <td>0</td>\n",
       "      <td>0</td>\n",
       "      <td>0.0</td>\n",
       "      <td>...</td>\n",
       "      <td>1</td>\n",
       "      <td>0.0</td>\n",
       "      <td>0</td>\n",
       "      <td>0</td>\n",
       "      <td>1</td>\n",
       "      <td>1</td>\n",
       "      <td>0</td>\n",
       "      <td>0</td>\n",
       "      <td>0</td>\n",
       "      <td>D</td>\n",
       "    </tr>\n",
       "    <tr>\n",
       "      <th>Y003</th>\n",
       "      <td>1</td>\n",
       "      <td>0</td>\n",
       "      <td>0</td>\n",
       "      <td>0</td>\n",
       "      <td>0</td>\n",
       "      <td>1</td>\n",
       "      <td>0</td>\n",
       "      <td>0</td>\n",
       "      <td>1</td>\n",
       "      <td>0.0</td>\n",
       "      <td>...</td>\n",
       "      <td>1</td>\n",
       "      <td>0.0</td>\n",
       "      <td>1</td>\n",
       "      <td>0</td>\n",
       "      <td>0</td>\n",
       "      <td>0</td>\n",
       "      <td>0</td>\n",
       "      <td>1</td>\n",
       "      <td>0</td>\n",
       "      <td>M</td>\n",
       "    </tr>\n",
       "    <tr>\n",
       "      <th>Y004</th>\n",
       "      <td>0</td>\n",
       "      <td>0</td>\n",
       "      <td>1</td>\n",
       "      <td>0</td>\n",
       "      <td>0</td>\n",
       "      <td>1</td>\n",
       "      <td>0</td>\n",
       "      <td>0</td>\n",
       "      <td>0</td>\n",
       "      <td>0.0</td>\n",
       "      <td>...</td>\n",
       "      <td>1</td>\n",
       "      <td>0.0</td>\n",
       "      <td>0</td>\n",
       "      <td>1</td>\n",
       "      <td>0</td>\n",
       "      <td>0</td>\n",
       "      <td>0</td>\n",
       "      <td>0</td>\n",
       "      <td>1</td>\n",
       "      <td>S</td>\n",
       "    </tr>\n",
       "    <tr>\n",
       "      <th>Y005</th>\n",
       "      <td>0</td>\n",
       "      <td>0</td>\n",
       "      <td>1</td>\n",
       "      <td>0</td>\n",
       "      <td>0</td>\n",
       "      <td>1</td>\n",
       "      <td>0</td>\n",
       "      <td>0</td>\n",
       "      <td>0</td>\n",
       "      <td>0.0</td>\n",
       "      <td>...</td>\n",
       "      <td>0</td>\n",
       "      <td>1.0</td>\n",
       "      <td>0</td>\n",
       "      <td>1</td>\n",
       "      <td>0</td>\n",
       "      <td>0</td>\n",
       "      <td>0</td>\n",
       "      <td>0</td>\n",
       "      <td>1</td>\n",
       "      <td>S</td>\n",
       "    </tr>\n",
       "  </tbody>\n",
       "</table>\n",
       "<p>5 rows × 31 columns</p>\n",
       "</div>"
      ],
      "text/plain": [
       "      X11  X12 X13 X21  X22 X23  X31  X32  X33  X34     ...      X72  X73  \\\n",
       "Y001    0    1   0   1    0   0    0    1    0  0.0     ...        0  1.0   \n",
       "Y002    0    1   0   0    1   0    1    0    0  0.0     ...        1  0.0   \n",
       "Y003    1    0   0   0    0   1    0    0    1  0.0     ...        1  0.0   \n",
       "Y004    0    0   1   0    0   1    0    0    0  0.0     ...        1  0.0   \n",
       "Y005    0    0   1   0    0   1    0    0    0  0.0     ...        0  1.0   \n",
       "\n",
       "      X81 X82  X83  X91 X92  X93  X94  Unnamed: 31  \n",
       "Y001    0   0    1    0   0    0    1            P  \n",
       "Y002    0   0    1    1   0    0    0            D  \n",
       "Y003    1   0    0    0   0    1    0            M  \n",
       "Y004    0   1    0    0   0    0    1            S  \n",
       "Y005    0   1    0    0   0    0    1            S  \n",
       "\n",
       "[5 rows x 31 columns]"
      ]
     },
     "execution_count": 3,
     "metadata": {},
     "output_type": "execute_result"
    }
   ],
   "source": [
    "db.head()"
   ]
  },
  {
   "cell_type": "code",
   "execution_count": 4,
   "metadata": {},
   "outputs": [],
   "source": [
    "db = db.replace('o', 0)\n",
    "db = db.replace('u', 0)\n",
    "db = db.replace('0_', 0)\n",
    "db = db.replace('T', 0)\n",
    "db = db.replace(\"0'\", 0)"
   ]
  },
  {
   "cell_type": "code",
   "execution_count": 5,
   "metadata": {},
   "outputs": [],
   "source": [
    "def criar_banco_cromossomos (numero, tamanho):\n",
    "    banco = np.zeros([numero,tamanho])\n",
    "    for i in range(numero):\n",
    "        sort = np.random.uniform(low=-1, high=1.01, size= tamanho)\n",
    "        banco[i] = sort\n",
    "    return banco"
   ]
  },
  {
   "cell_type": "code",
   "execution_count": 6,
   "metadata": {},
   "outputs": [],
   "source": [
    "def definir_pesos(cromos_fit):\n",
    "    pesos_fit = np.zeros(cromos_fit.shape[0])\n",
    "    for i in range(cromos_fit.shape[0]):\n",
    "        pesos_fit[i] = cromos_fit[i] / cromos_fit.sum()\n",
    "    return pesos_fit"
   ]
  },
  {
   "cell_type": "code",
   "execution_count": 7,
   "metadata": {},
   "outputs": [],
   "source": [
    "def calcular_fit(cromossomo, base_dados):\n",
    "    d_certos = p_certos = s_certos = g_certos = m_certos = d_total = p_total = s_total = g_total = m_total = 1\n",
    "    c100 = np.zeros(100)\n",
    "    #ipdb.set_trace()\n",
    "    for i in range(100):\n",
    "        s = int(np.random.randint(base_dados.shape[0], size=1))\n",
    "        c100[i] = np.sum(pd.to_numeric(base_dados.iloc[s][:30]).values * cromossomo)\n",
    "        if base_dados.iloc[s][-1] == \"D\":\n",
    "            d_total += 1\n",
    "            if c100[i] > 3:\n",
    "                d_certos += 1\n",
    "        elif base_dados.iloc[s][-1] == \"P\":\n",
    "            p_total += 1\n",
    "            if c100[i] > 1:\n",
    "                p_certos += 1\n",
    "        elif base_dados.iloc[s][-1] == \"S\":\n",
    "            s_total += 1\n",
    "            if c100[i] > -1:\n",
    "                s_certos += 1\n",
    "        elif base_dados.iloc[s][-1] == \"G\":\n",
    "            g_total += 1\n",
    "            if c100[i] > -3:\n",
    "                g_certos += 1\n",
    "        elif base_dados.iloc[s][-1] == \"M\":\n",
    "            m_total += 1\n",
    "            if c100[i] < -3:\n",
    "                m_certos += 1\n",
    "        else:\n",
    "            print(\"errou\")\n",
    "    fit = (m_certos/m_total) + (g_certos/g_total) + (s_certos/s_total) + (g_certos/g_total) + (m_certos/m_total)\n",
    "    return fit"
   ]
  },
  {
   "cell_type": "code",
   "execution_count": 8,
   "metadata": {},
   "outputs": [],
   "source": [
    "def roda_acaso(pesos_fit):\n",
    "    a = np.cumsum(pesos_fit)\n",
    "    b = np.random.rand()\n",
    "    for i in range(pesos_fit.shape[0]):\n",
    "        if b <= a[i]:\n",
    "            return i"
   ]
  },
  {
   "cell_type": "code",
   "execution_count": 9,
   "metadata": {},
   "outputs": [],
   "source": [
    "def cross(vetor1, vetor2):\n",
    "    s = int(np.random.randint(1, vetor1.size, size=1))\n",
    "    x = vetor1[:s]\n",
    "    y = vetor2[s:]\n",
    "    return np.concatenate((x,y))"
   ]
  },
  {
   "cell_type": "code",
   "execution_count": 10,
   "metadata": {},
   "outputs": [],
   "source": [
    "def x_men(vetor):\n",
    "    s = np.random.randint(vetor.size, size=1)\n",
    "    vetor[s] = np.random.uniform(low=-1, high=1.01, size=1)"
   ]
  },
  {
   "cell_type": "code",
   "execution_count": 11,
   "metadata": {},
   "outputs": [],
   "source": [
    "def menor_fit(cromos):\n",
    "    a = np.where(np.array(cromos) == np.array(cromos).min())[0][0]\n",
    "    return cromos[a], a"
   ]
  },
  {
   "cell_type": "code",
   "execution_count": 12,
   "metadata": {},
   "outputs": [],
   "source": [
    "cromos1 = criar_banco_cromossomos(20,30)\n",
    "cromos1[0] = np.array([-0.81084794,  0.1905629 ,  0.918404  ,  0.90500639,  0.84200309,\n",
    "        0.42340951, -0.87177353,  0.03618851, -0.90383741, -0.58684081,\n",
    "        0.38408509,  0.15580805, -0.82661333,  0.70802569,  0.15132862,\n",
    "       -0.06652324, -0.91074909, -0.11264349,  0.77206266, -0.96194849,\n",
    "       -0.01037924,  0.333686  , -0.59782002, -0.83215105,  0.09046913,\n",
    "        0.45284157,  0.45284157,  0.45977842, -0.971764  ,  0.45284157])\n",
    "for ii in range(200):\n",
    "    #import ipdb; ipdb.set_trace() #debugging starts here\n",
    "    fits1 = np.zeros(cromos1.shape[0])\n",
    "    pesos1 = np.zeros(cromos1.shape[0])\n",
    "    for jj in range(cromos1.shape[0]):\n",
    "        fits1[jj] = calcular_fit(cromos1[jj],db)\n",
    "    pesos1 = definir_pesos(fits1)\n",
    "    s1 = roda_acaso(pesos1)\n",
    "    s2 = roda_acaso(pesos1)\n",
    "    while s1 == s2:\n",
    "        s2 = roda_acaso(pesos1)\n",
    "    m, v = menor_fit(fits1)\n",
    "    cs_filho = cross(cromos1[s1], cromos1[s2])\n",
    "    if np.random.rand() > 0.5:\n",
    "        x_men(cs_filho)\n",
    "    cs_menor = m\n",
    "    if calcular_fit(cs_filho,db) > calcular_fit(cromos1[v],db):\n",
    "        cromos1[v] = cs_filho"
   ]
  },
  {
   "cell_type": "code",
   "execution_count": 13,
   "metadata": {},
   "outputs": [
    {
     "name": "stdout",
     "output_type": "stream",
     "text": [
      "0.7281795511221946\n",
      "0.6758104738154613\n",
      "0.7281795511221946\n",
      "0.7281795511221946\n",
      "0.6758104738154613\n",
      "0.7281795511221946\n",
      "0.7630922693266833\n",
      "0.6758104738154613\n",
      "0.6758104738154613\n",
      "0.6758104738154613\n",
      "0.7281795511221946\n",
      "0.6758104738154613\n",
      "0.7281795511221946\n",
      "0.7281795511221946\n",
      "0.7281795511221946\n",
      "0.6758104738154613\n",
      "0.6758104738154613\n",
      "0.7231920199501247\n",
      "0.6758104738154613\n",
      "0.7281795511221946\n"
     ]
    }
   ],
   "source": [
    "for k in range(20):\n",
    "    acertou = 0\n",
    "    base_dados = db\n",
    "    for s in range(db.shape[0]):\n",
    "        if base_dados.iloc[s][-1] == \"D\":\n",
    "            #d_total += 1\n",
    "            if np.sum(pd.to_numeric(base_dados.iloc[s][:30]).values * cromos1[k]) > 3:\n",
    "                acertou += 1\n",
    "        elif base_dados.iloc[s][-1] == \"P\":\n",
    "            #p_total += 1\n",
    "            if np.sum(pd.to_numeric(base_dados.iloc[s][:30]).values * cromos1[k]) > 1:\n",
    "                acertou += 1\n",
    "        elif base_dados.iloc[s][-1] == \"S\":\n",
    "            #s_total += 1\n",
    "            if np.sum(pd.to_numeric(base_dados.iloc[s][:30]).values * cromos1[k]) > -1:\n",
    "                acertou += 1\n",
    "        elif base_dados.iloc[s][-1] == \"G\":\n",
    "            #g_total += 1\n",
    "            if np.sum(pd.to_numeric(base_dados.iloc[s][:30]).values * cromos1[k]) > -3:\n",
    "                acertou += 1\n",
    "        elif base_dados.iloc[s][-1] == \"M\":\n",
    "            #m_total += 1\n",
    "            if np.sum(pd.to_numeric(base_dados.iloc[s][:30]).values * cromos1[k]) < -3:\n",
    "                acertou += 1\n",
    "    acertos = acertou/db.shape[0]\n",
    "    print(acertos)"
   ]
  },
  {
   "cell_type": "code",
   "execution_count": 14,
   "metadata": {},
   "outputs": [
    {
     "data": {
      "text/plain": [
       "array([-0.81084794,  0.1905629 ,  0.918404  ,  0.90500639,  0.84200309,\n",
       "        0.42340951, -0.87177353,  0.98398324, -0.90383741, -0.58684081,\n",
       "        0.38408509,  0.15580805, -0.82661333,  0.70802569,  0.15132862,\n",
       "       -0.06652324, -0.91074909, -0.11264349,  0.77206266, -0.96194849,\n",
       "       -0.01037924, -0.64011349, -0.59782002, -0.83215105,  0.09046913,\n",
       "        0.45284157,  0.45284157,  0.45977842, -0.971764  ,  0.45284157])"
      ]
     },
     "execution_count": 14,
     "metadata": {},
     "output_type": "execute_result"
    }
   ],
   "source": [
    "cromos1[6]"
   ]
  },
  {
   "cell_type": "code",
   "execution_count": 15,
   "metadata": {},
   "outputs": [
    {
     "data": {
      "text/plain": [
       "array([-0.81084794,  0.1905629 ,  0.918404  ,  0.90500639,  0.84200309,\n",
       "        0.42340951, -0.87177353,  0.98398324, -0.90383741, -0.58684081,\n",
       "        0.38408509,  0.15580805, -0.82661333,  0.70802569,  0.15132862,\n",
       "       -0.06652324, -0.91074909, -0.11264349,  0.77206266, -0.96194849,\n",
       "       -0.01037924, -0.64011349, -0.59782002, -0.83215105,  0.09046913,\n",
       "        0.45284157,  0.45284157,  0.45977842, -0.971764  ,  0.45284157])"
      ]
     },
     "execution_count": 15,
     "metadata": {},
     "output_type": "execute_result"
    }
   ],
   "source": [
    "# pesos com 76% de acerto:\n",
    "cromo_campeao = np.array([-0.81084794,  0.1905629 ,  0.918404  ,  0.90500639,  0.84200309,\n",
    "        0.42340951, -0.87177353,  0.98398324, -0.90383741, -0.58684081,\n",
    "        0.38408509,  0.15580805, -0.82661333,  0.70802569,  0.15132862,\n",
    "       -0.06652324, -0.91074909, -0.11264349,  0.77206266, -0.96194849,\n",
    "       -0.01037924, -0.64011349, -0.59782002, -0.83215105,  0.09046913,\n",
    "        0.45284157,  0.45284157,  0.45977842, -0.971764  ,  0.45284157])\n",
    "cromo_campeao"
   ]
  },
  {
   "cell_type": "code",
   "execution_count": null,
   "metadata": {},
   "outputs": [],
   "source": []
  }
 ],
 "metadata": {
  "kernelspec": {
   "display_name": "Python 3",
   "language": "python",
   "name": "python3"
  },
  "language_info": {
   "codemirror_mode": {
    "name": "ipython",
    "version": 3
   },
   "file_extension": ".py",
   "mimetype": "text/x-python",
   "name": "python",
   "nbconvert_exporter": "python",
   "pygments_lexer": "ipython3",
   "version": "3.6.5"
  }
 },
 "nbformat": 4,
 "nbformat_minor": 2
}
